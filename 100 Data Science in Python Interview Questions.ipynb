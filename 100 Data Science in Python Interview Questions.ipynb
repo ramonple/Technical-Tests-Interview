{
 "cells": [
  {
   "cell_type": "markdown",
   "id": "36d214f3",
   "metadata": {},
   "source": [
    "#      100+  Python Questions\n",
    "\n",
    "https://www.projectpro.io/article/100-data-science-in-python-interview-questions-and-answers-for-2021/188#toc-1"
   ]
  },
  {
   "cell_type": "markdown",
   "id": "fac066d2",
   "metadata": {},
   "source": [
    "## -----------------  Matrix"
   ]
  },
  {
   "cell_type": "code",
   "execution_count": 12,
   "id": "0bdbd40b",
   "metadata": {},
   "outputs": [],
   "source": [
    "import numpy as np\n",
    "matrixA = np.array([[1, 2, 3, 23],\n",
    "                    [4, 5, 6, 25],\n",
    "                    [7, 8, 9, 28],\n",
    "                    [10, 11, 12, 41]])"
   ]
  },
  {
   "cell_type": "markdown",
   "id": "5300e5d3",
   "metadata": {},
   "source": [
    "### flatten a matrix\n",
    "\n",
    "converting an m * n matrix into an array of values."
   ]
  },
  {
   "cell_type": "code",
   "execution_count": 13,
   "id": "59d1c600",
   "metadata": {},
   "outputs": [
    {
     "name": "stdout",
     "output_type": "stream",
     "text": [
      "[ 1  2  3 23  4  5  6 25  7  8  9 28 10 11 12 41]\n"
     ]
    }
   ],
   "source": [
    "\n",
    "print(matrixA.flatten())"
   ]
  },
  {
   "cell_type": "markdown",
   "id": "dfaaf74b",
   "metadata": {},
   "source": [
    "### Calculate the determinant of a matrix or ndArray using numpy\n",
    "\n",
    "The determinant helps us find the inverse of a matrix, tells us things about the matrix that are useful in systems of linear equations, calculus and more.\n",
    "\n",
    "for 2 * 2 matrix: |A| = ad − bc\n",
    "\n",
    "for 3 * 3 matrix |A| = a(ei − fh) − b(di − fg) + c(dh − eg)"
   ]
  },
  {
   "cell_type": "code",
   "execution_count": 14,
   "id": "7866a715",
   "metadata": {},
   "outputs": [
    {
     "name": "stdout",
     "output_type": "stream",
     "text": [
      "-4.862776847858206e-15\n"
     ]
    }
   ],
   "source": [
    "print(np.linalg.det(matrixA))\n",
    "\n",
    "# np.linalg: The NumPy linear algebra functions "
   ]
  },
  {
   "cell_type": "markdown",
   "id": "ab3a3d45",
   "metadata": {},
   "source": [
    "### calculate Diagonal of a Matrix"
   ]
  },
  {
   "cell_type": "code",
   "execution_count": 15,
   "id": "49c47318",
   "metadata": {},
   "outputs": [
    {
     "name": "stdout",
     "output_type": "stream",
     "text": [
      "[ 1  5  9 41]\n"
     ]
    }
   ],
   "source": [
    "print(matrixA.diagonal())"
   ]
  },
  {
   "cell_type": "markdown",
   "id": "842498bd",
   "metadata": {},
   "source": [
    "### calculate the trace\n",
    "\n",
    "tace = the sum of the elements on the main diagonal"
   ]
  },
  {
   "cell_type": "code",
   "execution_count": 16,
   "id": "b03f13e5",
   "metadata": {},
   "outputs": [
    {
     "name": "stdout",
     "output_type": "stream",
     "text": [
      "56\n"
     ]
    }
   ],
   "source": [
    "print(np.sum(matrixA.diagonal()))"
   ]
  },
  {
   "cell_type": "code",
   "execution_count": 17,
   "id": "0f06e030",
   "metadata": {},
   "outputs": [
    {
     "name": "stdout",
     "output_type": "stream",
     "text": [
      "56\n"
     ]
    }
   ],
   "source": [
    "print(matrixA.diagonal().sum())"
   ]
  },
  {
   "cell_type": "markdown",
   "id": "d9953578",
   "metadata": {},
   "source": [
    "### invert a matrix or nArray in Python"
   ]
  },
  {
   "cell_type": "code",
   "execution_count": 18,
   "id": "09096738",
   "metadata": {},
   "outputs": [
    {
     "name": "stdout",
     "output_type": "stream",
     "text": [
      "[[ 6.16931456e+15 -1.29555606e+16  7.40317747e+15 -6.16931456e+14]\n",
      " [-1.23386291e+16  2.59111211e+16 -1.48063549e+16  1.23386291e+15]\n",
      " [ 6.16931456e+15 -1.29555606e+16  7.40317747e+15 -6.16931456e+14]\n",
      " [ 6.57534247e-01 -1.28082192e+00  5.89041096e-01  3.42465753e-02]]\n"
     ]
    }
   ],
   "source": [
    "print(np.linalg.inv(matrixA))"
   ]
  },
  {
   "cell_type": "markdown",
   "id": "79c7b2db",
   "metadata": {},
   "source": [
    "### convert a dictionary to a matrix or nArray"
   ]
  },
  {
   "cell_type": "code",
   "execution_count": 19,
   "id": "8b39b156",
   "metadata": {},
   "outputs": [
    {
     "name": "stdout",
     "output_type": "stream",
     "text": [
      "[{'Pen': 2, 'Pencil': 4}, {'Pen': 4, 'Pencil': 3}, {'Pen': 1, 'Eraser': 2}, {'Pen': 2, 'Eraser': 2}]\n"
     ]
    }
   ],
   "source": [
    "from sklearn.feature_extraction import DictVectorizer\n",
    "    \n",
    "data_dict = [{'Pen': 2, 'Pencil': 4},\n",
    "                 {'Pen': 4, 'Pencil': 3},\n",
    "                 {'Pen': 1, 'Eraser': 2},\n",
    "                 {'Pen': 2, 'Eraser': 2}]\n",
    "print(data_dict)"
   ]
  },
  {
   "cell_type": "code",
   "execution_count": 20,
   "id": "5c00d565",
   "metadata": {},
   "outputs": [
    {
     "name": "stdout",
     "output_type": "stream",
     "text": [
      "[[0. 2. 4.]\n",
      " [0. 4. 3.]\n",
      " [2. 1. 0.]\n",
      " [2. 2. 0.]]\n"
     ]
    }
   ],
   "source": [
    "dictvectorizer = DictVectorizer(sparse=False)\n",
    "features = dictvectorizer.fit_transform(data_dict)\n",
    "print(features)"
   ]
  },
  {
   "cell_type": "code",
   "execution_count": 21,
   "id": "80bab213",
   "metadata": {},
   "outputs": [
    {
     "name": "stdout",
     "output_type": "stream",
     "text": [
      "['Eraser', 'Pen', 'Pencil']\n"
     ]
    },
    {
     "name": "stderr",
     "output_type": "stream",
     "text": [
      "/Users/yikaima/opt/anaconda3/lib/python3.9/site-packages/sklearn/utils/deprecation.py:87: FutureWarning: Function get_feature_names is deprecated; get_feature_names is deprecated in 1.0 and will be removed in 1.2. Please use get_feature_names_out instead.\n",
      "  warnings.warn(msg, category=FutureWarning)\n"
     ]
    }
   ],
   "source": [
    "feature_name =dictvectorizer.get_feature_names()\n",
    "print(feature_name)"
   ]
  },
  {
   "cell_type": "code",
   "execution_count": 23,
   "id": "72428db8",
   "metadata": {},
   "outputs": [],
   "source": [
    "import numpy as np\n",
    "matrix = np.array([[11, 22, 33],\n",
    "                       [44, 55, 66],\n",
    "                       [77, 88, 99],\n",
    "                       [110, 121, 132]])"
   ]
  },
  {
   "cell_type": "markdown",
   "id": "8d3d6d51",
   "metadata": {},
   "source": [
    "### reshape a numpy array"
   ]
  },
  {
   "cell_type": "code",
   "execution_count": 24,
   "id": "ebca8438",
   "metadata": {},
   "outputs": [
    {
     "name": "stdout",
     "output_type": "stream",
     "text": [
      "[[ 11  22  33  44  55  66]\n",
      " [ 77  88  99 110 121 132]]\n"
     ]
    }
   ],
   "source": [
    "print(matrix.reshape(2,6))"
   ]
  },
  {
   "cell_type": "markdown",
   "id": "e862e055",
   "metadata": {},
   "source": [
    "### select element from numpy array"
   ]
  },
  {
   "cell_type": "code",
   "execution_count": 25,
   "id": "4789375f",
   "metadata": {},
   "outputs": [
    {
     "name": "stdout",
     "output_type": "stream",
     "text": [
      "4\n"
     ]
    }
   ],
   "source": [
    "vector = np.array([1, 2, 3, 4, 5, 6])\n",
    "print(vector[3])"
   ]
  },
  {
   "cell_type": "code",
   "execution_count": 26,
   "id": "a9a676a4",
   "metadata": {},
   "outputs": [
    {
     "name": "stdout",
     "output_type": "stream",
     "text": [
      "99\n"
     ]
    }
   ],
   "source": [
    "print(matrix[2,2])"
   ]
  },
  {
   "cell_type": "code",
   "execution_count": 27,
   "id": "733515f2",
   "metadata": {},
   "outputs": [
    {
     "data": {
      "text/plain": [
       "array([[ 11,  22,  33],\n",
       "       [ 44,  55,  66],\n",
       "       [ 77,  88,  99],\n",
       "       [110, 121, 132]])"
      ]
     },
     "execution_count": 27,
     "metadata": {},
     "output_type": "execute_result"
    }
   ],
   "source": [
    "matrix"
   ]
  },
  {
   "cell_type": "markdown",
   "id": "cde53120",
   "metadata": {},
   "source": [
    "### create a sparse Matrix"
   ]
  },
  {
   "cell_type": "code",
   "execution_count": 30,
   "id": "a577b1f5",
   "metadata": {},
   "outputs": [],
   "source": [
    "import numpy as np\n",
    "from scipy import sparse"
   ]
  },
  {
   "cell_type": "code",
   "execution_count": 28,
   "id": "3fb323f5",
   "metadata": {},
   "outputs": [
    {
     "name": "stdout",
     "output_type": "stream",
     "text": [
      "Original Matrix: \n",
      " [[9 8 7]\n",
      " [6 5 4]\n",
      " [3 2 1]]\n"
     ]
    }
   ],
   "source": [
    "matrix = np.array([[9, 8, 7],\n",
    "                   [6, 5, 4],\n",
    "                   [3, 2, 1]])\n",
    "print(\"Original Matrix: \\n\", matrix)"
   ]
  },
  {
   "cell_type": "code",
   "execution_count": 31,
   "id": "c515bdcc",
   "metadata": {},
   "outputs": [
    {
     "name": "stdout",
     "output_type": "stream",
     "text": [
      "  (0, 0)\t9\n",
      "  (0, 1)\t8\n",
      "  (0, 2)\t7\n",
      "  (1, 0)\t6\n",
      "  (1, 1)\t5\n",
      "  (1, 2)\t4\n",
      "  (2, 0)\t3\n",
      "  (2, 1)\t2\n",
      "  (2, 2)\t1\n"
     ]
    }
   ],
   "source": [
    "print(sparse.dok_matrix(matrix))"
   ]
  },
  {
   "cell_type": "code",
   "execution_count": 32,
   "id": "ef05997f",
   "metadata": {},
   "outputs": [
    {
     "name": "stdout",
     "output_type": "stream",
     "text": [
      "  (0, 0)\t9\n",
      "  (0, 1)\t8\n",
      "  (0, 2)\t7\n",
      "  (1, 0)\t6\n",
      "  (1, 1)\t5\n",
      "  (1, 2)\t4\n",
      "  (2, 0)\t3\n",
      "  (2, 1)\t2\n",
      "  (2, 2)\t1\n"
     ]
    }
   ],
   "source": [
    "print(sparse.bsr_matrix(matrix))"
   ]
  },
  {
   "cell_type": "raw",
   "id": "c9405a7f",
   "metadata": {},
   "source": [
    "......"
   ]
  },
  {
   "cell_type": "markdown",
   "id": "e0b7fbbe",
   "metadata": {},
   "source": [
    "### Transpose of vetor or matrix"
   ]
  },
  {
   "cell_type": "code",
   "execution_count": 37,
   "id": "02d1120f",
   "metadata": {},
   "outputs": [],
   "source": [
    "vector = np.array([10, 20, 30, 40, 50, 60])\n",
    "\n",
    "matrix = np.array([[11, 22, 33],\n",
    "                   [44, 55, 66],\n",
    "                   [77, 88, 99]])"
   ]
  },
  {
   "cell_type": "code",
   "execution_count": 38,
   "id": "1e63e7af",
   "metadata": {},
   "outputs": [
    {
     "data": {
      "text/plain": [
       "array([10, 20, 30, 40, 50, 60])"
      ]
     },
     "execution_count": 38,
     "metadata": {},
     "output_type": "execute_result"
    }
   ],
   "source": [
    "V = vector.T\n",
    "V"
   ]
  },
  {
   "cell_type": "code",
   "execution_count": 39,
   "id": "76e95c1c",
   "metadata": {},
   "outputs": [
    {
     "data": {
      "text/plain": [
       "array([[11, 44, 77],\n",
       "       [22, 55, 88],\n",
       "       [33, 66, 99]])"
      ]
     },
     "execution_count": 39,
     "metadata": {},
     "output_type": "execute_result"
    }
   ],
   "source": [
    "matrixT = matrix.T\n",
    "matrixT"
   ]
  },
  {
   "cell_type": "code",
   "execution_count": null,
   "id": "2b2471c4",
   "metadata": {},
   "outputs": [],
   "source": []
  },
  {
   "cell_type": "markdown",
   "id": "24732ced",
   "metadata": {},
   "source": [
    "### 1.  How can you build a simple logistic regression model in Python? "
   ]
  },
  {
   "cell_type": "code",
   "execution_count": null,
   "id": "abd6a50e",
   "metadata": {},
   "outputs": [],
   "source": [
    "from sklearn.linear_model import LogisticRegression\n",
    "from sklearn.metrics import classification_report, confusion_matrix\n",
    "\n",
    "model = LogisticRegression(random_state = 0)\n",
    "model.fit(X_train,y_train)\n",
    "\n",
    "y_pred = model.predict(X_test) # produce either True or False\n",
    "\n",
    "ConfusionMatrix = confusion_matrix(y_test,y_pred)\n",
    "Report = classification_report(y_test,y_pred)\n",
    "\n",
    "from sklearn.metrics import accuracy_score\n",
    "from sklearn.metrics import precision_score\n",
    "from sklearn.metrics import f1_score\n",
    "\n",
    "accuracy = accuracy_score(y_test,y_pred)\n",
    "precision = precision_score(y_test,y_pred) # tp/(tp+fp)\n",
    "f1 = f1_score(y_test,y_pred) # f1 = 2 * (precision * recall) / (precision + recall)"
   ]
  },
  {
   "cell_type": "markdown",
   "id": "99b04e56",
   "metadata": {},
   "source": [
    "#### here, we need to use y_score (probability) instead of y_pred (True/False)"
   ]
  },
  {
   "cell_type": "code",
   "execution_count": null,
   "id": "e9811295",
   "metadata": {},
   "outputs": [],
   "source": [
    "from sklearn.metrics import roc_curve\n",
    "from sklearn.metrics import roc_auc_score\n",
    "\n",
    "y_score = model.predict_proba(X_test) # returns the probability\n",
    "\n",
    "logit_roc_auc = roc_auc_score(y_test,y_score)\n",
    "\n",
    "fpr, tpr, threshold = roc_curve(y_test, y_score[:,1])\n",
    "plt.figure()\n",
    "plt.plot(fpr, tpr, label= 'Logistic Regression (area = %0.2f)' % logit_roc_auc)"
   ]
  },
  {
   "cell_type": "code",
   "execution_count": null,
   "id": "e059687b",
   "metadata": {},
   "outputs": [],
   "source": []
  },
  {
   "cell_type": "markdown",
   "id": "a8f76d68",
   "metadata": {},
   "source": [
    "### 2. How can you train and interpret a linear regression model in SciKit learn?"
   ]
  },
  {
   "cell_type": "code",
   "execution_count": null,
   "id": "935f43b0",
   "metadata": {},
   "outputs": [],
   "source": [
    "from sklearn.linear_model import LinearRegression\n",
    "\n",
    "model = LinearRegression()\n",
    "model.fit(X_train,y_train)\n",
    "y_pred = model.predict(X_test)\n",
    "\n",
    "model.coef_\n",
    "model.intercept_\n",
    "\n",
    "from sklearn import metrics\n",
    "\n",
    "metrics.mean_squared_error(y_test,y_pred)\n",
    "metrics.mean_absolute_error(y_test,y_pred)\n",
    "np.sqrt(metrics.mean_squared_error(y_test,y_pred))"
   ]
  },
  {
   "cell_type": "raw",
   "id": "2165dcb8",
   "metadata": {},
   "source": [
    "f1 score is between 0 and 1. The higher the better. f1 > 0.5 is acceptable."
   ]
  },
  {
   "cell_type": "code",
   "execution_count": null,
   "id": "5996ac6c",
   "metadata": {},
   "outputs": [],
   "source": []
  },
  {
   "cell_type": "markdown",
   "id": "c3f64d18",
   "metadata": {},
   "source": [
    "# supervised: classification\n",
    "\n",
    "Decision Tree\n",
    "\n",
    "SVM (support Vector Machine)\n",
    "\n",
    "Navie Bayes\n",
    "\n",
    "Ensemble Methods:\n",
    "    a. Random Forest\n",
    "    b. AdaBoost\n",
    "    c.GradientBoost\n",
    "    "
   ]
  },
  {
   "cell_type": "markdown",
   "id": "3b9ca30e",
   "metadata": {},
   "source": [
    "## Decision Tree\n",
    "\n",
    "### PROS:\n",
    "\n",
    "a. Decision trees are easy to interpret and visualize.\n",
    "\n",
    "b. It can easily capture Non-linear patterns.\n",
    "\n",
    "c. It requires fewer data preprocessing from the user, for example, there is no need to normalize columns.\n",
    "\n",
    "d. It can be used for feature engineering such as predicting missing values, suitable for variable selection.\n",
    "\n",
    "e. The decision tree has no assumptions about distribution because of the non-parametric nature of the algorithm. (Source)\n",
    "\n",
    "### CONS:\n",
    "a. Sensitive to noisy data. It can overfit noisy data.\n",
    "\n",
    "b. The small variation(or variance) in data can result in the different decision tree. This can be reduced by bagging and boosting algorithms.\n",
    "\n",
    "c. Decision trees are biased with imbalance dataset, so it is recommended that balance out the dataset before creating the decision tree."
   ]
  },
  {
   "cell_type": "code",
   "execution_count": null,
   "id": "58676230",
   "metadata": {},
   "outputs": [],
   "source": [
    "from sklearn.tree import DecisionTreeClassifier\n",
    "\n",
    "model = DecisionTreeClassifier()\n",
    "\n",
    "# criterion: 'gini','entropy','log_loss'\n",
    "# the function to measure the quality of the split\n",
    "\n",
    "# max_depth\n",
    "# the maximum depth of the tree\n",
    "\n",
    "# min_sample_leaf\n",
    "# the minimum number of samples required to be a leaf node\n",
    "\n",
    "# min_sample_split\n",
    "# the minimum number of samples required to split an internal node\n",
    "\n",
    "model.fit(X_train,y_train)\n",
    "y_pred = model.predict(X_test)"
   ]
  },
  {
   "cell_type": "code",
   "execution_count": null,
   "id": "2a03d9f3",
   "metadata": {},
   "outputs": [],
   "source": [
    "from sklearn import metrics\n",
    "\n",
    "metrics.classification_report(y_pred,y_test)\n",
    "\n",
    "merrics.confusion_matrix(y_pred,y_test)\n",
    "\n",
    "metrics.accuracy_score(y_pred,y_test)"
   ]
  },
  {
   "cell_type": "code",
   "execution_count": null,
   "id": "54fcd89b",
   "metadata": {},
   "outputs": [],
   "source": []
  },
  {
   "cell_type": "markdown",
   "id": "90c1069f",
   "metadata": {},
   "source": [
    "## SVM (suport vector machine)\n",
    "\n",
    "### PROS:\n",
    "\n",
    "SVM is effective in high dimensional spaces.\n",
    "\n",
    "SVM is effective in cases where the number of features is greater than the number of samples.\n",
    "\n",
    "\n",
    "### CONS:\n",
    "\n",
    "Long training time for large dataset.\n",
    "\n",
    "Difficult to understand and explain the final model.\n",
    "\n",
    "It is not easy to find suitable kernel."
   ]
  },
  {
   "cell_type": "code",
   "execution_count": null,
   "id": "88c79901",
   "metadata": {},
   "outputs": [],
   "source": [
    "from sklearn.svm import SVC\n",
    "\n",
    "model = SVC(kernel =)\n",
    "\n",
    "#kernel: the kernel type to be used\n",
    "# linear, poly, rbf, sigmoid\n",
    "\n",
    "\n",
    "model.fit(X_train,y_train)\n",
    "\n",
    "y_pred = model.predict(X_test)"
   ]
  },
  {
   "cell_type": "code",
   "execution_count": null,
   "id": "e2a7ca83",
   "metadata": {},
   "outputs": [],
   "source": [
    "from sklearn import metrics\n",
    "\n",
    "metrics.classification_report(y_pred,y_test)\n",
    "\n",
    "merrics.confusion_matrix(y_pred,y_test)\n",
    "\n",
    "metrics.accuracy_score(y_pred,y_test)"
   ]
  },
  {
   "cell_type": "code",
   "execution_count": null,
   "id": "a451a21c",
   "metadata": {},
   "outputs": [],
   "source": []
  },
  {
   "cell_type": "markdown",
   "id": "c10743cc",
   "metadata": {},
   "source": [
    "# Ensemble Methos\n",
    "\n",
    "\n",
    "\n",
    "\n",
    "## Random Forest\n",
    "\n",
    "### PROS:\n",
    "\n",
    "Random can reduce overfitting and increase the model accuracy.\n",
    "\n",
    "Ramdom forest can be applied to both regression and classification models.\n",
    "\n",
    "Raondom Forest is robust to outliers.\n",
    "\n",
    "Random forest works well with both categorical and continuous variables.\n",
    "\n",
    "Random forest can deal with missing values automatically.\n",
    "\n",
    "No feature scaling required.\n",
    "\n",
    "Handles non-linear parameters efficently.\n",
    "\n",
    "\n",
    "### CONS:\n",
    "\n",
    "Longer training methods.\n",
    "\n",
    "Complexity.\n"
   ]
  },
  {
   "cell_type": "code",
   "execution_count": null,
   "id": "dbbb74fe",
   "metadata": {},
   "outputs": [],
   "source": [
    "from sklearn.ensemble import RandomForestClassifier\n",
    "\n",
    "model = RandomForestClassifier()\n",
    "\n",
    "# n_estimators\n",
    "# the number of decision trees in the forest\n",
    "\n",
    "# criterion\n",
    "\n",
    "# max_depth\n",
    "\n",
    "# min_samples_split\n",
    "\n",
    "# min_samples_leaf\n",
    "\n",
    "model.fit(X_train,y_train)\n",
    "\n",
    "y_pred = model.predict(X_train)"
   ]
  },
  {
   "cell_type": "code",
   "execution_count": null,
   "id": "8392161f",
   "metadata": {},
   "outputs": [],
   "source": [
    "from sklearn import metrics\n",
    "\n",
    "metrics.classification_report(y_pred,y_test)\n",
    "\n",
    "merrics.confusion_matrix(y_pred,y_test)\n",
    "\n",
    "metrics.accuracy_score(y_pred,y_test)"
   ]
  },
  {
   "cell_type": "code",
   "execution_count": null,
   "id": "64358139",
   "metadata": {},
   "outputs": [],
   "source": []
  },
  {
   "cell_type": "markdown",
   "id": "cb5706e7",
   "metadata": {},
   "source": [
    "## Gradient Boosting\n",
    "\n",
    "### PROS:\n",
    "Generally more accurate compared to other modes (random forest) -> because we train them to correct each other's erros.\n",
    "\n",
    "train faster on larger dataset.\n",
    "\n",
    "\n",
    "### CONS:\n",
    "Prone to overfitting. ( can be solved by applying L1 and L2 regularization penalities)\n",
    "\n",
    "Hard to interpret the final models."
   ]
  },
  {
   "cell_type": "code",
   "execution_count": null,
   "id": "93278e3f",
   "metadata": {},
   "outputs": [],
   "source": [
    "from sklearn.ensemble import GradientBoostingClassifier\n",
    "\n",
    "model = GradientBoostingClassifier()\n",
    "\n",
    "# loss: log_loss, exponential\n",
    "# the loss function to be optimised\n",
    "\n",
    "# the learning rate\n",
    "\n",
    "# n_estimates\n",
    "# the number of boosting stages\n",
    "\n",
    "# critierion: 'mse','squared_error'\n",
    "# the function to measure the quality of split\n",
    "\n",
    "# min_samples_split\n",
    "\n",
    "# min_samples_leaf\n",
    "\n",
    "model.fit(X_train,y_train)\n",
    "\n",
    "y_pred = model.predict(X_test)"
   ]
  },
  {
   "cell_type": "code",
   "execution_count": null,
   "id": "134e6e79",
   "metadata": {},
   "outputs": [],
   "source": [
    "from sklearn import metrics\n",
    "\n",
    "metrics.classification_report(y_pred, y_test)\n",
    "\n",
    "metrics.confusion_matrix(y_pred,y_test)\n",
    "\n",
    "metrics.accuracy_score(y_pred,y_test)"
   ]
  },
  {
   "cell_type": "code",
   "execution_count": null,
   "id": "b0fd74cc",
   "metadata": {},
   "outputs": [],
   "source": []
  },
  {
   "cell_type": "markdown",
   "id": "50a137e8",
   "metadata": {},
   "source": [
    "## Differences Between Random Forest and Gradient Boosting\n",
    "\n",
    "The trees in random forest are indepdent. There is no sequence of the trees. We just aggregate the individual's predictions into a collective one.\n",
    "\n",
    "For Gradient Boosting,  trees are built additively, aims to correct other's errors. So the trees run in a order, and the order is fixed."
   ]
  },
  {
   "cell_type": "code",
   "execution_count": null,
   "id": "a2eaa8c7",
   "metadata": {},
   "outputs": [],
   "source": []
  },
  {
   "cell_type": "markdown",
   "id": "e89d188a",
   "metadata": {},
   "source": [
    "### <font color='red'> 3.  Name a few libraries in Python used for Data Analysis and Scientific computations. </font> "
   ]
  },
  {
   "cell_type": "code",
   "execution_count": null,
   "id": "d0fa0f54",
   "metadata": {},
   "outputs": [],
   "source": [
    "Pandas (Python data analysis): it is the most popular and widely used python library for data science \n",
    "\n",
    "Numpy (Numerical Python): the foundamental package for numerical computation\n",
    "    \n",
    "SciPy (Scientific Python): used for high-level computations\n",
    "\n",
    "Matplotlib: it is a plotting library. It can help us analyse through visulisation.\n",
    "    \n",
    "scikit-learn: a machine learning library that provides almost all the machine learning algorithms    "
   ]
  },
  {
   "cell_type": "code",
   "execution_count": null,
   "id": "27d35f1f",
   "metadata": {},
   "outputs": [],
   "source": []
  },
  {
   "cell_type": "markdown",
   "id": "8f984349",
   "metadata": {},
   "source": [
    "### <font color='red'> 4. Which library would you prefer for plotting in Python language: Seaborn or Matplotlib? </font> "
   ]
  },
  {
   "cell_type": "markdown",
   "id": "ccee7f92",
   "metadata": {},
   "source": [
    "Seaborn and Matplotlib are two of Python's most powerful visualization libraries.\n",
    "\n",
    "Seaborn uses fewer syntax and has stunning default themes. \n",
    "\n",
    "Matplotlib is easily to be customised, but it also means it needs a lot of fine-tuning to ensure the plots look shiny. \n",
    "\n",
    "So, for me, I prefer seaborn."
   ]
  },
  {
   "cell_type": "code",
   "execution_count": null,
   "id": "143692e1",
   "metadata": {},
   "outputs": [],
   "source": []
  },
  {
   "cell_type": "markdown",
   "id": "24b8780c",
   "metadata": {},
   "source": [
    "###  <font color='red'>  5. What is the main difference between a Pandas series and a single-column DataFrame in Python? </font> "
   ]
  },
  {
   "cell_type": "code",
   "execution_count": null,
   "id": "de71d19d",
   "metadata": {},
   "outputs": [],
   "source": [
    "Series is a one-dimensional array\n",
    "\n",
    "DataFrame is 2-dimensional labelled data structure."
   ]
  },
  {
   "cell_type": "code",
   "execution_count": null,
   "id": "e55994ff",
   "metadata": {},
   "outputs": [],
   "source": []
  },
  {
   "cell_type": "markdown",
   "id": "dd80243a",
   "metadata": {},
   "source": [
    "### 6. Write code to sort a DataFrame in Python in descending order."
   ]
  },
  {
   "cell_type": "code",
   "execution_count": null,
   "id": "cf9f5f3e",
   "metadata": {},
   "outputs": [],
   "source": [
    "df.sort_values(['column'], ascending=False)"
   ]
  },
  {
   "cell_type": "code",
   "execution_count": null,
   "id": "c7305344",
   "metadata": {},
   "outputs": [],
   "source": []
  },
  {
   "cell_type": "markdown",
   "id": "31e4168e",
   "metadata": {},
   "source": [
    "### 7. How can you handle duplicate values in a dataset for a variable in Python? "
   ]
  },
  {
   "cell_type": "code",
   "execution_count": null,
   "id": "f0035dd1",
   "metadata": {},
   "outputs": [],
   "source": [
    "df.duplicated()\n",
    "\n",
    "df.drop_duplicates()"
   ]
  },
  {
   "cell_type": "code",
   "execution_count": null,
   "id": "47788cad",
   "metadata": {},
   "outputs": [],
   "source": []
  },
  {
   "cell_type": "markdown",
   "id": "acb029fc",
   "metadata": {},
   "source": [
    "### 8. Which Random Forest parameters can be tuned to enhance the predictive power of the model?"
   ]
  },
  {
   "cell_type": "code",
   "execution_count": null,
   "id": "8c4f8115",
   "metadata": {},
   "outputs": [],
   "source": [
    "from sklearn.ensemble import RandomForestClassifer\n",
    "\n",
    "n_estimates: the number of trees in the forest\n",
    "max_depth: the maximum depth of the tree\n",
    "min_samples_split: the minimum number of samples required to split an internal node\n",
    "min_sample_leaf: the minimum number of samples required to be at a leaf node"
   ]
  },
  {
   "cell_type": "code",
   "execution_count": null,
   "id": "797f51fd",
   "metadata": {},
   "outputs": [],
   "source": []
  },
  {
   "cell_type": "markdown",
   "id": "d90135be",
   "metadata": {},
   "source": [
    "### <font color='red'>  9.  Which method in pandas.tools.plotting is used to create scatter plot matrix? </font> \n",
    "\n",
    "Scatter Matrix:\n",
    "\n",
    "A scatter matrix consists of several pair-wise scatter plots of variables presented in a matrix format.\n",
    "\n",
    "It can be used to determine whether the variables are correlated and whether the correlation is positive or negative."
   ]
  },
  {
   "cell_type": "code",
   "execution_count": null,
   "id": "470bb29a",
   "metadata": {},
   "outputs": [],
   "source": [
    "pandas.plotting.scatter_matrix"
   ]
  },
  {
   "cell_type": "code",
   "execution_count": 42,
   "id": "c42396ac",
   "metadata": {},
   "outputs": [
    {
     "data": {
      "text/plain": [
       "array([[<AxesSubplot:xlabel='A', ylabel='A'>,\n",
       "        <AxesSubplot:xlabel='B', ylabel='A'>,\n",
       "        <AxesSubplot:xlabel='C', ylabel='A'>,\n",
       "        <AxesSubplot:xlabel='D', ylabel='A'>],\n",
       "       [<AxesSubplot:xlabel='A', ylabel='B'>,\n",
       "        <AxesSubplot:xlabel='B', ylabel='B'>,\n",
       "        <AxesSubplot:xlabel='C', ylabel='B'>,\n",
       "        <AxesSubplot:xlabel='D', ylabel='B'>],\n",
       "       [<AxesSubplot:xlabel='A', ylabel='C'>,\n",
       "        <AxesSubplot:xlabel='B', ylabel='C'>,\n",
       "        <AxesSubplot:xlabel='C', ylabel='C'>,\n",
       "        <AxesSubplot:xlabel='D', ylabel='C'>],\n",
       "       [<AxesSubplot:xlabel='A', ylabel='D'>,\n",
       "        <AxesSubplot:xlabel='B', ylabel='D'>,\n",
       "        <AxesSubplot:xlabel='C', ylabel='D'>,\n",
       "        <AxesSubplot:xlabel='D', ylabel='D'>]], dtype=object)"
      ]
     },
     "execution_count": 42,
     "metadata": {},
     "output_type": "execute_result"
    },
    {
     "data": {
      "image/png": "[encoded data removed]",
      "text/plain": [
       "<Figure size 432x288 with 16 Axes>"
      ]
     },
     "metadata": {
      "needs_background": "light"
     },
     "output_type": "display_data"
    }
   ],
   "source": [
    "import pandas as pd\n",
    "df = pd.DataFrame(np.random.randn(1000, 4), columns=['A','B','C','D'])\n",
    "pd.plotting.scatter_matrix(df)"
   ]
  },
  {
   "cell_type": "code",
   "execution_count": null,
   "id": "e0eccbcd",
   "metadata": {},
   "outputs": [],
   "source": []
  },
  {
   "cell_type": "markdown",
   "id": "e88a36bb",
   "metadata": {},
   "source": [
    "###  <font color='red'> 10. How can you check if a data set or time series is Random?</font> "
   ]
  },
  {
   "cell_type": "markdown",
   "id": "f50cbc18",
   "metadata": {},
   "source": [
    "Lag plot. If the lag plot for the given dataset does not show any structure then it is random."
   ]
  },
  {
   "cell_type": "markdown",
   "id": "c6057925",
   "metadata": {},
   "source": [
    "A lag plot is a special type of scatter plot in which the X-axis represents the dataset with some time units behind or ahead as compared to the Y-axis\n",
    "\n",
    "Lag plots are most commonly used to look for patterns in time series data.\n",
    "\n",
    "The lag plot is also useful for checking whether the given dataset is random or not. If there is randomness in the data then it will be reflected in the lag plot, if there is no pattern in the lag plot."
   ]
  },
  {
   "cell_type": "code",
   "execution_count": 43,
   "id": "44631d2c",
   "metadata": {
    "scrolled": true
   },
   "outputs": [
    {
     "data": {
      "text/plain": [
       "<AxesSubplot:>"
      ]
     },
     "execution_count": 43,
     "metadata": {},
     "output_type": "execute_result"
    },
    {
     "data": {
      "image/png": "[encoded data removed]",
      "text/plain": [
       "<Figure size 432x288 with 1 Axes>"
      ]
     },
     "metadata": {
      "needs_background": "light"
     },
     "output_type": "display_data"
    }
   ],
   "source": [
    "np.random.seed(5)\n",
    "x = np.cumsum(np.random.normal(loc=1, scale=5, size=50))\n",
    "s = pd.Series(x)\n",
    "s.plot()"
   ]
  },
  {
   "cell_type": "code",
   "execution_count": 46,
   "id": "34caa389",
   "metadata": {},
   "outputs": [
    {
     "data": {
      "text/plain": [
       "<AxesSubplot:xlabel='y(t)', ylabel='y(t + 10)'>"
      ]
     },
     "execution_count": 46,
     "metadata": {},
     "output_type": "execute_result"
    },
    {
     "data": {
      "image/png": "[encoded data removed]",
      "text/plain": [
       "<Figure size 432x288 with 1 Axes>"
      ]
     },
     "metadata": {
      "needs_background": "light"
     },
     "output_type": "display_data"
    }
   ],
   "source": [
    "\n",
    "\n",
    "pd.plotting.lag_plot(s, lag=10)"
   ]
  },
  {
   "cell_type": "markdown",
   "id": "2d3ea3be",
   "metadata": {},
   "source": [
    "Lag plot can also be applied to check:\n",
    "    \n",
    "Seasonality: If there is seasonality in the plot then, it will give a periodic lag plot.   "
   ]
  },
  {
   "cell_type": "code",
   "execution_count": null,
   "id": "817e7115",
   "metadata": {},
   "outputs": [],
   "source": []
  },
  {
   "cell_type": "markdown",
   "id": "b128c19e",
   "metadata": {},
   "source": [
    "### 11. Can we create a DataFrame with multiple data types in Python? If yes, how can you do it"
   ]
  },
  {
   "cell_type": "code",
   "execution_count": 59,
   "id": "aa216749",
   "metadata": {},
   "outputs": [
    {
     "data": {
      "text/plain": [
       "Name    object\n",
       "Age      int64\n",
       "dtype: object"
      ]
     },
     "execution_count": 59,
     "metadata": {},
     "output_type": "execute_result"
    }
   ],
   "source": [
    "import pandas as pd\n",
    "\n",
    "data={'Name':['Karan','Rohit','Sahil','Aryan'],'Age':[23,22,21,24]}\n",
    "\n",
    "df=pd.DataFrame(data)\n",
    "\n",
    "df.dtypes"
   ]
  },
  {
   "cell_type": "code",
   "execution_count": 60,
   "id": "7628ac5d",
   "metadata": {},
   "outputs": [
    {
     "data": {
      "text/plain": [
       "Name     object\n",
       "Age     float64\n",
       "dtype: object"
      ]
     },
     "execution_count": 60,
     "metadata": {},
     "output_type": "execute_result"
    }
   ],
   "source": [
    "df = df.astype({'Age':'float'})\n",
    "df.dtypes"
   ]
  },
  {
   "cell_type": "code",
   "execution_count": null,
   "id": "266f8975",
   "metadata": {},
   "outputs": [],
   "source": []
  },
  {
   "cell_type": "markdown",
   "id": "c6c76786",
   "metadata": {},
   "source": [
    "### 12.  Is it possible to plot histogram in Pandas without calling Matplotlib? If yes, then write the code to plot the histogram?"
   ]
  },
  {
   "cell_type": "code",
   "execution_count": null,
   "id": "59249440",
   "metadata": {},
   "outputs": [],
   "source": [
    "df.hist() # produce a separate plot for each Series\n",
    "df.plot.hist() # will produce a stacked single plot:\n",
    "\n",
    "df.plot.bar()\n",
    "df.plot.box()"
   ]
  },
  {
   "cell_type": "code",
   "execution_count": null,
   "id": "229ad7e8",
   "metadata": {},
   "outputs": [],
   "source": []
  },
  {
   "cell_type": "markdown",
   "id": "031372fa",
   "metadata": {},
   "source": [
    "### 13. What are the possible ways to load an array from a text data file in Python? How can the efficiency of the code to load data file be improved?"
   ]
  },
  {
   "cell_type": "code",
   "execution_count": null,
   "id": "67bb189f",
   "metadata": {},
   "outputs": [],
   "source": [
    "numpy.loadtxt()\n",
    "\n",
    "pd.read_csv('xx.txt', sep=' ')\n",
    "# sep:  In the text file, we use the space character(‘ ‘) as the separator."
   ]
  },
  {
   "cell_type": "code",
   "execution_count": null,
   "id": "6571cca3",
   "metadata": {},
   "outputs": [],
   "source": [
    "## others:\n",
    "\n",
    "pandas.read_csv\n",
    "pandas.read_excel\n"
   ]
  },
  {
   "cell_type": "code",
   "execution_count": null,
   "id": "4c05a433",
   "metadata": {},
   "outputs": [],
   "source": []
  },
  {
   "cell_type": "markdown",
   "id": "cbff13e0",
   "metadata": {},
   "source": [
    "### 14. Which is the standard data missing marker used in Pandas?"
   ]
  },
  {
   "cell_type": "code",
   "execution_count": null,
   "id": "42384c20",
   "metadata": {},
   "outputs": [],
   "source": [
    "NaN"
   ]
  },
  {
   "cell_type": "code",
   "execution_count": null,
   "id": "3af5ccba",
   "metadata": {},
   "outputs": [],
   "source": []
  },
  {
   "cell_type": "markdown",
   "id": "31976442",
   "metadata": {},
   "source": [
    "### 15. Why you should use NumPy arrays instead of nested Python lists?"
   ]
  },
  {
   "cell_type": "markdown",
   "id": "0fa1ea2c",
   "metadata": {},
   "source": [
    "NumPy uses much less memory to store data. \n",
    "\n",
    "The NumPy arrays takes significantly less amount of memory as compared to python lists. \n",
    "\n",
    "It also provides a mechanism of specifying the data types of the contents, which allows further optimisation of the code."
   ]
  },
  {
   "cell_type": "code",
   "execution_count": null,
   "id": "5fbe3d3c",
   "metadata": {},
   "outputs": [],
   "source": []
  },
  {
   "cell_type": "markdown",
   "id": "36299748",
   "metadata": {},
   "source": [
    "### <font color='red'>  16.  What is the preferred method to check for an empty array in NumPy? </font> "
   ]
  },
  {
   "cell_type": "code",
   "execution_count": 19,
   "id": "9da6bcce",
   "metadata": {},
   "outputs": [],
   "source": [
    "import numpy as np\n",
    "arr = np.array([])"
   ]
  },
  {
   "cell_type": "code",
   "execution_count": 21,
   "id": "28b888e6",
   "metadata": {},
   "outputs": [
    {
     "data": {
      "text/plain": [
       "False"
      ]
     },
     "execution_count": 21,
     "metadata": {},
     "output_type": "execute_result"
    }
   ],
   "source": [
    "# numpy.any() to check if the NumPy array is empty in Python\n",
    "arr.any()"
   ]
  },
  {
   "cell_type": "code",
   "execution_count": 22,
   "id": "2a5995cd",
   "metadata": {},
   "outputs": [
    {
     "data": {
      "text/plain": [
       "0"
      ]
     },
     "execution_count": 22,
     "metadata": {},
     "output_type": "execute_result"
    }
   ],
   "source": [
    "# numpy.size() to check if the NumPy array is empty in Python using\n",
    "np.size(arr)"
   ]
  },
  {
   "cell_type": "code",
   "execution_count": 24,
   "id": "378e8276",
   "metadata": {},
   "outputs": [
    {
     "data": {
      "text/plain": [
       "0"
      ]
     },
     "execution_count": 24,
     "metadata": {},
     "output_type": "execute_result"
    }
   ],
   "source": [
    "# By Converting it to list\n",
    "len(arr.tolist())"
   ]
  },
  {
   "cell_type": "code",
   "execution_count": 26,
   "id": "4059e985",
   "metadata": {},
   "outputs": [
    {
     "data": {
      "text/plain": [
       "0"
      ]
     },
     "execution_count": 26,
     "metadata": {},
     "output_type": "execute_result"
    }
   ],
   "source": [
    "arr.size"
   ]
  },
  {
   "cell_type": "code",
   "execution_count": 28,
   "id": "8b9477a3",
   "metadata": {},
   "outputs": [
    {
     "data": {
      "text/plain": [
       "0"
      ]
     },
     "execution_count": 28,
     "metadata": {},
     "output_type": "execute_result"
    }
   ],
   "source": [
    "arr.shape[0]"
   ]
  },
  {
   "cell_type": "code",
   "execution_count": null,
   "id": "5275a718",
   "metadata": {},
   "outputs": [],
   "source": []
  },
  {
   "cell_type": "markdown",
   "id": "6dff5054",
   "metadata": {},
   "source": [
    "###  <font color='red'>  17. List down some evaluation metrics for regression problems. </font> "
   ]
  },
  {
   "cell_type": "code",
   "execution_count": null,
   "id": "34329d2d",
   "metadata": {},
   "outputs": [],
   "source": [
    "R-square, adjusted R-square\n",
    "\n",
    "MSE (mean squared error), RMSE (Root Mean Squared Error)\n",
    "\n",
    "MAE (mean abosulte error)"
   ]
  },
  {
   "cell_type": "code",
   "execution_count": null,
   "id": "c8bbad1e",
   "metadata": {},
   "outputs": [],
   "source": [
    "from sklearn.metrics import r2_score\n",
    "\n",
    "from sklearn.metrics import mean_squared_error\n",
    "\n",
    "from sklearn.metrics import mean_absolute_error"
   ]
  },
  {
   "cell_type": "code",
   "execution_count": null,
   "id": "bbb5257c",
   "metadata": {},
   "outputs": [],
   "source": []
  },
  {
   "cell_type": "markdown",
   "id": "8fe83abe",
   "metadata": {},
   "source": [
    "### 18.  Which Python library would you prefer to use for Data Munging?"
   ]
  },
  {
   "cell_type": "markdown",
   "id": "1a29d0f5",
   "metadata": {},
   "source": [
    "Pandas. \n",
    "\n",
    "Pandas is fast and easy to use, and its syntax is very user-friendly.\n",
    "\n",
    "This powerful Python library not only handles numerical data, it also handles text data and dates.\n",
    "\n",
    "It allows you to join, merge, concatenate, or duplicate DataFrames and easily add or remove columns or rows using its drop() function.\n",
    "\n",
    "In short, pandas combines speed, ease of use, and flexible functionality to create an incredibly powerful tool that makes data manipulation and analysis fast and easy."
   ]
  },
  {
   "cell_type": "code",
   "execution_count": null,
   "id": "3d543b42",
   "metadata": {},
   "outputs": [],
   "source": []
  },
  {
   "cell_type": "markdown",
   "id": "0494f38d",
   "metadata": {},
   "source": [
    "###  <font color='red'> 19. Write the code to sort an array in NumPy by the nth column? </font> "
   ]
  },
  {
   "cell_type": "markdown",
   "id": "c308c392",
   "metadata": {},
   "source": [
    "Using argsort () function this can be achieved. \n",
    "\n",
    "If there is an array X and you would like to sort the nth column then code for this will be x[x [: n-1].argsort ()]"
   ]
  },
  {
   "cell_type": "code",
   "execution_count": 35,
   "id": "94c123a6",
   "metadata": {},
   "outputs": [
    {
     "name": "stdout",
     "output_type": "stream",
     "text": [
      "[[7 0 5]\n",
      " [9 2 3]\n",
      " [4 5 6]]\n"
     ]
    }
   ],
   "source": [
    "a = np.array([[9, 2, 3],[4, 5, 6],[7, 0, 5]])\n",
    "\n",
    "print(a[a[:,1].argsort()])"
   ]
  },
  {
   "cell_type": "code",
   "execution_count": 36,
   "id": "011eb8ce",
   "metadata": {},
   "outputs": [
    {
     "name": "stdout",
     "output_type": "stream",
     "text": [
      "[[9 2 3]\n",
      " [7 0 5]\n",
      " [4 5 6]]\n"
     ]
    }
   ],
   "source": [
    "print(a[a[:,2].argsort()])"
   ]
  },
  {
   "cell_type": "code",
   "execution_count": null,
   "id": "c7f30060",
   "metadata": {},
   "outputs": [],
   "source": []
  },
  {
   "cell_type": "markdown",
   "id": "832c46d8",
   "metadata": {},
   "source": [
    "### 20.  How are NumPy and SciPy related?"
   ]
  },
  {
   "cell_type": "markdown",
   "id": "f87c243b",
   "metadata": {},
   "source": [
    "SciPy is built on top of NumPy. \n",
    "\n",
    "The SciPy module consists of all the NumPy functions."
   ]
  },
  {
   "cell_type": "code",
   "execution_count": null,
   "id": "a6fadc74",
   "metadata": {},
   "outputs": [],
   "source": []
  },
  {
   "cell_type": "markdown",
   "id": "13ee5d2c",
   "metadata": {},
   "source": [
    "### 21. Which python library is built on top of matplotlib and Pandas to ease data plotting?"
   ]
  },
  {
   "cell_type": "markdown",
   "id": "1bdf35b4",
   "metadata": {},
   "source": [
    "Seaborn"
   ]
  },
  {
   "cell_type": "code",
   "execution_count": null,
   "id": "50919374",
   "metadata": {},
   "outputs": [],
   "source": []
  },
  {
   "cell_type": "markdown",
   "id": "5a545cbf",
   "metadata": {},
   "source": [
    "###  <font color='red'> 22. Which plot will you use to access the uncertainty of a statistic? </font> "
   ]
  },
  {
   "cell_type": "code",
   "execution_count": null,
   "id": "5adee2f8",
   "metadata": {},
   "outputs": [],
   "source": [
    "Bootstrap plot.\n",
    "\n",
    "pd.plotting.bootstrap_plot(s)"
   ]
  },
  {
   "cell_type": "markdown",
   "id": "2b3f91b7",
   "metadata": {},
   "source": [
    "Bootstrap Sampling: It is a method in which we take a sample data repeatedly with replacement from a data set to estimate a population parameter. It is used to determine various parameters of a population. \n",
    "\n",
    "Bootstrap plot: It is a graphical method used to measure the uncertainty of any desired statistical characteristic of a population. It is an alternative to the confidence interval. (also a mathematical method used for calculation of a statistic). \n",
    "\n",
    "x-axis: Subsample number.\n",
    "\n",
    "y-axis: Computed value of the desired statistic for a given subsample."
   ]
  },
  {
   "cell_type": "code",
   "execution_count": null,
   "id": "50fd43da",
   "metadata": {},
   "outputs": [],
   "source": []
  },
  {
   "cell_type": "markdown",
   "id": "88b25d05",
   "metadata": {},
   "source": [
    "### <font color='red'>  23. What are some features of Pandas that you like or dislike? </font> "
   ]
  },
  {
   "cell_type": "markdown",
   "id": "ece52b8e",
   "metadata": {},
   "source": [
    "#### Pros:\n",
    "    \n",
    "Pands is fast. \n",
    "\n",
    "less writting and more work done.\n",
    "\n",
    "Makes data flexible and cutomizable.\n"
   ]
  },
  {
   "cell_type": "markdown",
   "id": "68766ee5",
   "metadata": {},
   "source": [
    "#### Cons:\n",
    "\n",
    "Pandas has a very steep learning curve. It may seem very easy to use in the beginning. But, you might have a  really hard time if you want to move further.\n",
    "\n",
    "Poor 3D matrix compatibility [kəm,pætə'biləti].\n",
    "                              \n",
    "Pandas doesn't have a good documentation.                             "
   ]
  },
  {
   "cell_type": "code",
   "execution_count": null,
   "id": "26e4895f",
   "metadata": {},
   "outputs": [],
   "source": []
  },
  {
   "cell_type": "markdown",
   "id": "2ac74f6f",
   "metadata": {},
   "source": [
    "### Which scientific libraries in SciPy have you worked with in your project?"
   ]
  },
  {
   "cell_type": "code",
   "execution_count": null,
   "id": "d86ce7e6",
   "metadata": {},
   "outputs": [],
   "source": []
  },
  {
   "cell_type": "code",
   "execution_count": null,
   "id": "cea5c685",
   "metadata": {},
   "outputs": [],
   "source": []
  },
  {
   "cell_type": "markdown",
   "id": "9d98efa6",
   "metadata": {},
   "source": [
    "### <font color='red'>  25. What is pylab?  </font> "
   ]
  },
  {
   "cell_type": "markdown",
   "id": "55f74be4",
   "metadata": {},
   "source": [
    "A package that combines NumPy, SciPy and Matplotlib into a single namespace."
   ]
  },
  {
   "cell_type": "code",
   "execution_count": null,
   "id": "05a2cfbc",
   "metadata": {},
   "outputs": [],
   "source": []
  },
  {
   "cell_type": "markdown",
   "id": "8b5f33cf",
   "metadata": {},
   "source": [
    "### 26. Which python library is used for Machine Learning?"
   ]
  },
  {
   "cell_type": "markdown",
   "id": "cf9d85fa",
   "metadata": {},
   "source": [
    "SciKit- Learn\n",
    "\n",
    "Built on NumPy, SciPy, and matplotlib"
   ]
  },
  {
   "cell_type": "code",
   "execution_count": null,
   "id": "8ffeb9be",
   "metadata": {},
   "outputs": [],
   "source": []
  },
  {
   "cell_type": "markdown",
   "id": "e94e389e",
   "metadata": {},
   "source": [
    "### 27. How can you copy objects in Python?"
   ]
  },
  {
   "cell_type": "code",
   "execution_count": null,
   "id": "7bd3c7f2",
   "metadata": {},
   "outputs": [],
   "source": [
    "import copy \n",
    "\n",
    "# Suppose, we need to copy a compound list say x. \n",
    "copy.copy(x)\n",
    "copy.deepcopy(x)"
   ]
  },
  {
   "cell_type": "markdown",
   "id": "0b008d5a",
   "metadata": {},
   "source": [
    "#### difference copy( ) and deepcopy( )\n",
    "\n",
    "Shallow copy: \n",
    "\n",
    "just creates a second variable that references the orginial objects.\n",
    "So, if one object changes, both copies change.\n",
    "\n",
    "Deep Copy:\n",
    "\n",
    "creates a second instance of the original object.\n",
    "\n",
    "If either changes, the other remains the same."
   ]
  },
  {
   "cell_type": "raw",
   "id": "b43eafbe",
   "metadata": {},
   "source": [
    "However, it is not possible to copy all objects in Python using these functions.  \n",
    "\n",
    "For instance, dictionaries have a separate copy method whereas sequences in Python have to be copied by ‘Slicing’."
   ]
  },
  {
   "cell_type": "code",
   "execution_count": null,
   "id": "578db382",
   "metadata": {},
   "outputs": [],
   "source": []
  },
  {
   "cell_type": "markdown",
   "id": "1faad3d7",
   "metadata": {},
   "source": [
    "### <font color='red'> 28. What is the difference between tuples and lists in Python </font> "
   ]
  },
  {
   "cell_type": "markdown",
   "id": "c1c498d8",
   "metadata": {},
   "source": [
    "The key difference between the tuples and lists is that while the tuples are immutable objects the lists are mutable.\n",
    "\n",
    "Implications of iterations are much faster in tuples.\n",
    "\n",
    "Tuples consumes less memory."
   ]
  },
  {
   "attachments": {
    "Screenshot%202022-07-14%20at%2011.05.59%20PM.png": {
     "image/png": "[encoded data removed]"
    }
   },
   "cell_type": "markdown",
   "id": "ea650010",
   "metadata": {},
   "source": [
    "![Screenshot%202022-07-14%20at%2011.05.59%20PM.png](attachment:Screenshot%202022-07-14%20at%2011.05.59%20PM.png)"
   ]
  },
  {
   "cell_type": "code",
   "execution_count": null,
   "id": "46675dcc",
   "metadata": {},
   "outputs": [],
   "source": []
  },
  {
   "cell_type": "markdown",
   "id": "37f3ceab",
   "metadata": {},
   "source": [
    "### <font color='red'> 31. What does _init_.py do? </font> "
   ]
  },
  {
   "cell_type": "raw",
   "id": "15815b65",
   "metadata": {},
   "source": [
    "_init_.py is an empty py file used for importing a module in a directory. \n",
    "\n",
    "_init_.py provides an easy way to organize the files. If there is a module maindir/subdir/module.py,_init_.py is placed in all the directories so that the module can be imported using the following command-\n",
    "\n",
    "import  maindir.subdir.module"
   ]
  },
  {
   "cell_type": "code",
   "execution_count": null,
   "id": "1c179642",
   "metadata": {},
   "outputs": [],
   "source": []
  },
  {
   "cell_type": "markdown",
   "id": "de38e152",
   "metadata": {},
   "source": [
    "### <font color='red'> 33.  How can you randomize the items of a list in place in Python? </font>"
   ]
  },
  {
   "cell_type": "markdown",
   "id": "ca45ef07",
   "metadata": {},
   "source": [
    "Shuffle (lst)"
   ]
  },
  {
   "cell_type": "code",
   "execution_count": null,
   "id": "139a5a59",
   "metadata": {},
   "outputs": [],
   "source": []
  },
  {
   "cell_type": "markdown",
   "id": "921fa492",
   "metadata": {},
   "source": [
    "### 34. Pass In python"
   ]
  },
  {
   "cell_type": "code",
   "execution_count": null,
   "id": "f788388f",
   "metadata": {},
   "outputs": [],
   "source": [
    "The pass statement is used as a placeholder.\n",
    "\n",
    "When pass stantement is executed, nothing happens."
   ]
  },
  {
   "cell_type": "code",
   "execution_count": null,
   "id": "d688b653",
   "metadata": {},
   "outputs": [],
   "source": []
  },
  {
   "cell_type": "markdown",
   "id": "b2e49b09",
   "metadata": {},
   "source": [
    "### 35.  If you are gives the first and last names of employees, which data type in Python will you use to store them?"
   ]
  },
  {
   "cell_type": "code",
   "execution_count": null,
   "id": "7ae8e91c",
   "metadata": {},
   "outputs": [],
   "source": [
    "a list of dictionary\n",
    "\n",
    "dict = {'first_name':'Example','last_name':'MathsGee'}"
   ]
  },
  {
   "cell_type": "code",
   "execution_count": null,
   "id": "a4ee776c",
   "metadata": {},
   "outputs": [],
   "source": []
  },
  {
   "cell_type": "markdown",
   "id": "1c244f00",
   "metadata": {},
   "source": [
    "### <font color ='red'> 36. What happens when you execute the statement mango=banana in Python? </font>"
   ]
  },
  {
   "cell_type": "code",
   "execution_count": null,
   "id": "8762c364",
   "metadata": {},
   "outputs": [],
   "source": [
    "A name error will occur. As the name 'banana' os not defined."
   ]
  },
  {
   "cell_type": "code",
   "execution_count": 1,
   "id": "ef19a07c",
   "metadata": {},
   "outputs": [
    {
     "ename": "NameError",
     "evalue": "name 'banana' is not defined",
     "output_type": "error",
     "traceback": [
      "\u001b[0;31m---------------------------------------------------------------------------\u001b[0m",
      "\u001b[0;31mNameError\u001b[0m                                 Traceback (most recent call last)",
      "\u001b[0;32m/var/folders/n0/rr0bk9yn2d156tv_qkmj0d_m0000gn/T/ipykernel_4687/2718924891.py\u001b[0m in \u001b[0;36m<module>\u001b[0;34m\u001b[0m\n\u001b[0;32m----> 1\u001b[0;31m \u001b[0mmango\u001b[0m\u001b[0;34m=\u001b[0m\u001b[0mbanana\u001b[0m\u001b[0;34m\u001b[0m\u001b[0;34m\u001b[0m\u001b[0m\n\u001b[0m",
      "\u001b[0;31mNameError\u001b[0m: name 'banana' is not defined"
     ]
    }
   ],
   "source": [
    "mango=banana"
   ]
  },
  {
   "cell_type": "code",
   "execution_count": null,
   "id": "f02fc040",
   "metadata": {},
   "outputs": [],
   "source": []
  },
  {
   "cell_type": "markdown",
   "id": "7701e8b1",
   "metadata": {},
   "source": [
    "### <font color ='red'> 37. Write a sorting algorithm for a numerical dataset in Python </font>"
   ]
  },
  {
   "cell_type": "markdown",
   "id": "17e81247",
   "metadata": {},
   "source": [
    "There are many kinds of sorting algorithms in python. These are:\n",
    "\n",
    " 1. Bubble sort\n",
    " 2. Merge sort\n",
    " 3. Insertion sort\n",
    " 4. Shell sort\n",
    " 5.  Selection sort"
   ]
  },
  {
   "cell_type": "code",
   "execution_count": 14,
   "id": "fe7f6654",
   "metadata": {},
   "outputs": [],
   "source": [
    "# take bubble sort for example:\n",
    "def simple_buble_sort(array):\n",
    "    n = len(array)\n",
    "    \n",
    "    for i in range(n):\n",
    "        # already_sorted = True\n",
    "        \n",
    "        for j in range(n-i-1):\n",
    "            if array[j] > array[j+1]:\n",
    "                array[j],array[j+1] = array[j+1],array[j]\n",
    "                \n",
    "    return array            "
   ]
  },
  {
   "cell_type": "code",
   "execution_count": 15,
   "id": "cde7dfcd",
   "metadata": {},
   "outputs": [
    {
     "data": {
      "text/plain": [
       "[1, 9, 14, 35, 45]"
      ]
     },
     "execution_count": 15,
     "metadata": {},
     "output_type": "execute_result"
    }
   ],
   "source": [
    "simple_buble_sort([9,14,35,1,45])"
   ]
  },
  {
   "cell_type": "code",
   "execution_count": 10,
   "id": "28a167f3",
   "metadata": {},
   "outputs": [],
   "source": [
    "# with explanations:\n",
    "\n",
    "def bubble_sort(array):\n",
    "    n = len(array)\n",
    "\n",
    "    for i in range(n):\n",
    "        # Create a flag that will allow the function to\n",
    "        # terminate early if there's nothing left to sort\n",
    "        already_sorted = True\n",
    "\n",
    "        # Start looking at each item of the list one by one,\n",
    "        # comparing it with its adjacent value. With each\n",
    "        # iteration, the portion of the array that you look at\n",
    "        # shrinks because the remaining items have already been\n",
    "        # sorted.\n",
    "        for j in range(n - i - 1):\n",
    "            if array[j] > array[j + 1]:\n",
    "                # If the item you're looking at is greater than its\n",
    "                # adjacent value, then swap them\n",
    "                array[j], array[j + 1] = array[j + 1], array[j]\n",
    "\n",
    "                # Since you had to swap two elements,\n",
    "                # set the `already_sorted` flag to `False` so the\n",
    "                # algorithm doesn't finish prematurely\n",
    "                already_sorted = False\n",
    "\n",
    "        # If there were no swaps during the last iteration,\n",
    "        # the array is already sorted, and you can terminate\n",
    "        if already_sorted:\n",
    "            break\n",
    "\n",
    "    return array\n"
   ]
  },
  {
   "cell_type": "code",
   "execution_count": 11,
   "id": "fd6263f6",
   "metadata": {},
   "outputs": [
    {
     "data": {
      "text/plain": [
       "[1, 9, 14, 35, 45]"
      ]
     },
     "execution_count": 11,
     "metadata": {},
     "output_type": "execute_result"
    }
   ],
   "source": [
    "bubble_sort([9,14,35,1,45])"
   ]
  },
  {
   "cell_type": "code",
   "execution_count": null,
   "id": "a3aa36af",
   "metadata": {},
   "outputs": [],
   "source": []
  },
  {
   "cell_type": "markdown",
   "id": "268d1866",
   "metadata": {},
   "source": [
    "### other sortings"
   ]
  },
  {
   "cell_type": "code",
   "execution_count": 2,
   "id": "0b743de1",
   "metadata": {},
   "outputs": [
    {
     "name": "stdout",
     "output_type": "stream",
     "text": [
      "[1, 5, 8, 13, 16]\n"
     ]
    }
   ],
   "source": [
    "list = [ \"13\", \"16\", \"1\", \"5\" , \"8\"]\n",
    "list = [int(x) for x in list]\n",
    "list.sort()\n",
    "print(list)"
   ]
  },
  {
   "cell_type": "code",
   "execution_count": null,
   "id": "33cb2729",
   "metadata": {},
   "outputs": [],
   "source": []
  },
  {
   "cell_type": "code",
   "execution_count": null,
   "id": "6eb5f073",
   "metadata": {},
   "outputs": [],
   "source": [
    "df.sort_values(by =['col1'], ascending = False, inplace= True)\n",
    "\n",
    "df.sort_values(by =['col1','col2'],asceding =[False,True], inplace= True)"
   ]
  },
  {
   "cell_type": "code",
   "execution_count": null,
   "id": "21d176b3",
   "metadata": {},
   "outputs": [],
   "source": []
  },
  {
   "cell_type": "markdown",
   "id": "b4b42a28",
   "metadata": {},
   "source": [
    " ### <font color ='red'>  38. Optimize the below python code  </font>"
   ]
  },
  {
   "cell_type": "raw",
   "id": "8d340fff",
   "metadata": {},
   "source": [
    "word=’word’\n",
    "\n",
    "print(word.__len__())"
   ]
  },
  {
   "cell_type": "code",
   "execution_count": null,
   "id": "5e1dba7f",
   "metadata": {},
   "outputs": [],
   "source": [
    "answer: \n",
    "    \n",
    "   __len__ is a wrapper descriptor which in turn makes a call to len().\n",
    "\n",
    "word = 'word'\n",
    "\n",
    "len(word)"
   ]
  },
  {
   "cell_type": "code",
   "execution_count": null,
   "id": "5487d47a",
   "metadata": {},
   "outputs": [],
   "source": []
  },
  {
   "cell_type": "markdown",
   "id": "752583c6",
   "metadata": {},
   "source": [
    "### <font color ='red'> 39. What is monkey patching in Python </font>"
   ]
  },
  {
   "cell_type": "code",
   "execution_count": null,
   "id": "2fc0c6b5",
   "metadata": {},
   "outputs": [],
   "source": [
    "Monkey patching refers to dynamic modifications of a class or module at runtime.\n",
    "\n",
    "But it is not a good practice to use it in production environment as debugging the code could be very diffcult."
   ]
  },
  {
   "cell_type": "code",
   "execution_count": null,
   "id": "68edf5bf",
   "metadata": {},
   "outputs": [],
   "source": []
  },
  {
   "cell_type": "markdown",
   "id": "6e84eef6",
   "metadata": {},
   "source": [
    "###  <font color ='red'> 40.  Which tool in Python will you use to find bugs if any?  </font>"
   ]
  },
  {
   "cell_type": "code",
   "execution_count": null,
   "id": "3d178888",
   "metadata": {},
   "outputs": [],
   "source": [
    "Pychecker and Pylint.\n",
    "\n",
    "Pylint analyses your code without actually running it.\n",
    "Pylint verifies that a module satisfies all the coding standards or not.\n",
    "\n",
    "Pychecker is a static analysis tool that helps find out bugs in python source code."
   ]
  },
  {
   "cell_type": "code",
   "execution_count": null,
   "id": "e6fa01c3",
   "metadata": {},
   "outputs": [],
   "source": []
  },
  {
   "cell_type": "markdown",
   "id": "db02b2c5",
   "metadata": {},
   "source": [
    "### <font color ='red'> 41. How are arguments passed in Python:  by reference  OR  by value? </font>"
   ]
  },
  {
   "cell_type": "markdown",
   "id": "d0aa9b9f",
   "metadata": {},
   "source": [
    "Neither “Pass by Value” nor “Pass by Reference” \n",
    "\n",
    "but it is “Pass by Object Reference”. "
   ]
  },
  {
   "cell_type": "markdown",
   "id": "46e657b2",
   "metadata": {},
   "source": [
    "### 42. You are given a list of N numbers. Create a single list comprehension in Python to create a new list that contains only those values which have even numbers from elements of the list at even indices. For instance if list[4] has an even value the it has be included in the new output list because it has an even index but if list[5] has an even value it should not be included in the list because it is not at an even index."
   ]
  },
  {
   "cell_type": "code",
   "execution_count": null,
   "id": "11405b6a",
   "metadata": {},
   "outputs": [],
   "source": [
    "[ x for x in list[0::2] if x%2 == 0]"
   ]
  },
  {
   "cell_type": "markdown",
   "id": "7d4bd015",
   "metadata": {},
   "source": [
    "###  <font color ='red'>  Select Even / Odd Index from a list </font>"
   ]
  },
  {
   "cell_type": "code",
   "execution_count": null,
   "id": "9e86062e",
   "metadata": {},
   "outputs": [],
   "source": [
    "lst = [my_list]\n",
    "\n",
    "odds = lst[1::2]\n",
    "\n",
    "even = lst[0::2]"
   ]
  },
  {
   "cell_type": "code",
   "execution_count": null,
   "id": "b3fe82b8",
   "metadata": {},
   "outputs": [],
   "source": [
    "list[1::2]\n",
    "\n",
    "# start from index 1, end at the end of list. and increase each step by 2."
   ]
  },
  {
   "cell_type": "code",
   "execution_count": null,
   "id": "e2e9be72",
   "metadata": {},
   "outputs": [],
   "source": []
  },
  {
   "cell_type": "markdown",
   "id": "bc2933a2",
   "metadata": {},
   "source": [
    "###  <font color ='red'> 43. Explain the usage of decorators. </font>"
   ]
  },
  {
   "cell_type": "markdown",
   "id": "007d759c",
   "metadata": {},
   "source": [
    "A decorator allows a user to add new functionality to an existing object without modifying its structure."
   ]
  },
  {
   "cell_type": "code",
   "execution_count": null,
   "id": "4c310b2c",
   "metadata": {},
   "outputs": [],
   "source": []
  },
  {
   "cell_type": "markdown",
   "id": "581015c9",
   "metadata": {},
   "source": [
    "### 44.  How can you check whether a pandas data frame is empty or not?"
   ]
  },
  {
   "cell_type": "code",
   "execution_count": null,
   "id": "7fc5c5d0",
   "metadata": {},
   "outputs": [],
   "source": [
    "df.shape\n",
    "\n",
    "df.empty"
   ]
  },
  {
   "cell_type": "code",
   "execution_count": 30,
   "id": "339616d2",
   "metadata": {},
   "outputs": [
    {
     "name": "stdout",
     "output_type": "stream",
     "text": [
      "(0, 0) True\n"
     ]
    }
   ],
   "source": [
    "import pandas as pd\n",
    "df = pd.DataFrame([])\n",
    "print(df.shape, df.empty)"
   ]
  },
  {
   "cell_type": "markdown",
   "id": "83b35503",
   "metadata": {},
   "source": [
    "### <font color ='red'> 45. What will be the output of the below Python code  </font>"
   ]
  },
  {
   "cell_type": "raw",
   "id": "bb8bcef9",
   "metadata": {},
   "source": [
    "def multiplier():\n",
    "\n",
    "   return [lambda x: i * x for i in range(4)]\n",
    "   \n",
    "   print(m(2) for m in multipliers())\n",
    "   "
   ]
  },
  {
   "cell_type": "code",
   "execution_count": null,
   "id": "61fabfdb",
   "metadata": {},
   "outputs": [],
   "source": []
  },
  {
   "cell_type": "code",
   "execution_count": 36,
   "id": "45bda4f9",
   "metadata": {},
   "outputs": [
    {
     "name": "stdout",
     "output_type": "stream",
     "text": [
      "[6, 6, 6, 6]\n"
     ]
    }
   ],
   "source": [
    "def multipliers ():\n",
    "\n",
    "    return [lambda x: i * x for i in range (4)]\n",
    "\n",
    "print ( [m (2) for m in multipliers ()])"
   ]
  },
  {
   "cell_type": "raw",
   "id": "98d7f525",
   "metadata": {},
   "source": [
    "## late binding\n",
    "\n",
    "# This means that the values of variables used in closures are looked up at the time the inner function is called.\n",
    "in this case, i in range(4), that is i: 0,1,2,3\n",
    "m(2) --> i = 3 * 2 = 6"
   ]
  },
  {
   "cell_type": "code",
   "execution_count": 37,
   "id": "449fcde0",
   "metadata": {},
   "outputs": [
    {
     "name": "stdout",
     "output_type": "stream",
     "text": [
      "[20, 20, 20]\n"
     ]
    }
   ],
   "source": [
    "# slighlt change this question\n",
    "\n",
    "def new():\n",
    "    return ([lambda x: i * x for i in range(3,6)]) # i 3,4,5\n",
    "print( [ n (4) for n in new()])"
   ]
  },
  {
   "cell_type": "code",
   "execution_count": null,
   "id": "ed251c6d",
   "metadata": {},
   "outputs": [],
   "source": [
    " ### <font color ='red'> 46. What do you mean by list comprehension  </font>"
   ]
  },
  {
   "cell_type": "code",
   "execution_count": null,
   "id": "fb99047e",
   "metadata": {},
   "outputs": [],
   "source": [
    "creating a list based on existing lists. (iterators)"
   ]
  },
  {
   "cell_type": "code",
   "execution_count": 39,
   "id": "84f6b077",
   "metadata": {},
   "outputs": [
    {
     "name": "stdout",
     "output_type": "stream",
     "text": [
      "['apple', 'banana', 'mango']\n"
     ]
    }
   ],
   "source": [
    "fruits = [\"apple\", \"banana\", \"cherry\", \"kiwi\", \"mango\"]\n",
    "\n",
    "newlist = [x for x in fruits if \"a\" in x]\n",
    "\n",
    "print(newlist)"
   ]
  },
  {
   "cell_type": "code",
   "execution_count": null,
   "id": "8735788b",
   "metadata": {},
   "outputs": [],
   "source": []
  },
  {
   "cell_type": "markdown",
   "id": "7ffa4ff8",
   "metadata": {},
   "source": [
    "### 47.   What will be the output of the below code\n",
    "\n",
    "word = 'aeioubcdfg'\n",
    "\n",
    "print (word [:3] + word [3:])"
   ]
  },
  {
   "cell_type": "code",
   "execution_count": null,
   "id": "e31d4db2",
   "metadata": {},
   "outputs": [],
   "source": [
    "aeioubcdfg"
   ]
  },
  {
   "cell_type": "code",
   "execution_count": 42,
   "id": "bbb73f16",
   "metadata": {},
   "outputs": [
    {
     "name": "stdout",
     "output_type": "stream",
     "text": [
      "aeioubcdfg\n"
     ]
    }
   ],
   "source": [
    "word = 'aeioubcdfg'\n",
    "\n",
    "print (word [:3] + word [3:])"
   ]
  },
  {
   "cell_type": "markdown",
   "id": "0d576cf1",
   "metadata": {},
   "source": [
    "### 48.  What is the output\n",
    "\n",
    "list= [‘a’,’e’,’i’,’o’,’u’]\n",
    "\n",
    "print (list [8:])"
   ]
  },
  {
   "cell_type": "code",
   "execution_count": null,
   "id": "bf4f62cb",
   "metadata": {},
   "outputs": [],
   "source": [
    "an empty list []. NOT AN INDEX ERROR !!!!"
   ]
  },
  {
   "cell_type": "code",
   "execution_count": 48,
   "id": "c5c68cc1",
   "metadata": {},
   "outputs": [
    {
     "name": "stdout",
     "output_type": "stream",
     "text": [
      "[]\n"
     ]
    }
   ],
   "source": [
    "list= [1,2,3,4]\n",
    "print (list [8:])"
   ]
  },
  {
   "cell_type": "markdown",
   "id": "9dd24f0b",
   "metadata": {},
   "source": [
    "### 49. What will be the output of the below code\n",
    "\n",
    "def foo ( i= [ ] ):\n",
    "\n",
    "    i.append (1)\n",
    "\n",
    "    return i\n",
    "\n",
    "foo( )\n",
    "\n",
    "foo( )"
   ]
  },
  {
   "cell_type": "markdown",
   "id": "2a90113c",
   "metadata": {},
   "source": [
    "The argument to the function foo is evaluated only once when the function is defined.\n",
    "\n",
    "However, since it is a list, on every all the list is modified by appending a 1 to it."
   ]
  },
  {
   "cell_type": "code",
   "execution_count": 63,
   "id": "92d0438a",
   "metadata": {},
   "outputs": [
    {
     "name": "stdout",
     "output_type": "stream",
     "text": [
      "[4]\n",
      "[4, 4]\n"
     ]
    }
   ],
   "source": [
    "def foo (i= []):\n",
    "\n",
    "    i.append (4)\n",
    "\n",
    "    return i\n",
    "\n",
    "print(foo())\n",
    "\n",
    "print(foo())"
   ]
  },
  {
   "cell_type": "code",
   "execution_count": null,
   "id": "589964ad",
   "metadata": {},
   "outputs": [],
   "source": []
  },
  {
   "cell_type": "markdown",
   "id": "f6358d3f",
   "metadata": {},
   "source": [
    "###  <font color ='red'>  50.  Can the lambda forms in Python contain statements? </font>"
   ]
  },
  {
   "cell_type": "markdown",
   "id": "55d16e3d",
   "metadata": {},
   "source": [
    "NO.\n",
    "\n",
    "A lambda form in python does not have statements as it is used to make new function object and then return them at runtime."
   ]
  },
  {
   "cell_type": "code",
   "execution_count": null,
   "id": "ac60ae06",
   "metadata": {},
   "outputs": [],
   "source": []
  },
  {
   "cell_type": "markdown",
   "id": "aa2d1afb",
   "metadata": {},
   "source": [
    "### 51.  What will be the data type of x for the following code?\n",
    "\n",
    "x = input(“Enter a number”)"
   ]
  },
  {
   "cell_type": "markdown",
   "id": "c48a5f70",
   "metadata": {},
   "source": [
    "string"
   ]
  },
  {
   "cell_type": "code",
   "execution_count": null,
   "id": "e935e831",
   "metadata": {},
   "outputs": [],
   "source": []
  },
  {
   "cell_type": "markdown",
   "id": "ffdba461",
   "metadata": {},
   "source": [
    "### <font color ='red'>  52. What do you mean by pickling and unpickling in Python? </font>"
   ]
  },
  {
   "cell_type": "markdown",
   "id": "f064b6bc",
   "metadata": {},
   "source": [
    "Pickle accepts any python objects as input and tranforming it into a string representation.\n",
    "\n",
    "Unipickling is the inverse operation, whereby the bysteam is converted back into an object hierarchy."
   ]
  },
  {
   "cell_type": "code",
   "execution_count": null,
   "id": "52d0f81c",
   "metadata": {},
   "outputs": [],
   "source": []
  },
  {
   "cell_type": "markdown",
   "id": "60791ddd",
   "metadata": {},
   "source": [
    "### 53. What will be the output of the following code:\n",
    "\n",
    "Welcome = “Welcome to ProjectPro!”\n",
    "\n",
    "Welcome[1:7:2]"
   ]
  },
  {
   "cell_type": "code",
   "execution_count": null,
   "id": "294b7815",
   "metadata": {},
   "outputs": [],
   "source": [
    "\"ecm\""
   ]
  },
  {
   "cell_type": "code",
   "execution_count": 66,
   "id": "c11b97e3",
   "metadata": {},
   "outputs": [
    {
     "name": "stdout",
     "output_type": "stream",
     "text": [
      "ecm\n"
     ]
    }
   ],
   "source": [
    "Welcome = \"Welcome to ProjectPro!\"\n",
    "\n",
    "print(Welcome[1:7:2])"
   ]
  },
  {
   "cell_type": "markdown",
   "id": "6617ce02",
   "metadata": {},
   "source": [
    "### 54. What is wrong with the following code:\n",
    "\n",
    "print(“I love browsing through “ProjectPro” content.”)"
   ]
  },
  {
   "cell_type": "code",
   "execution_count": null,
   "id": "f6323f63",
   "metadata": {},
   "outputs": [],
   "source": [
    "It will give you a syntax error. \n",
    "\n",
    "That is because if one wants to print double quotates, they need to use single quotes for string.\n",
    "\n",
    "So, it should be:\n",
    "    \n",
    "print('I love xxx\"ProjectPro\" content.')\n",
    "\n",
    "or \n",
    "\n",
    "print(\"I love xxx 'ProjectPro' content.\")"
   ]
  },
  {
   "cell_type": "code",
   "execution_count": null,
   "id": "48e4415d",
   "metadata": {},
   "outputs": [],
   "source": []
  },
  {
   "cell_type": "markdown",
   "id": "6df876e3",
   "metadata": {},
   "source": [
    "###  55. How can you iterate over a few files in python"
   ]
  },
  {
   "cell_type": "markdown",
   "id": "00fbd698",
   "metadata": {},
   "source": [
    "The os Python module provides a big range of useful methods to manipulate files and directories."
   ]
  },
  {
   "cell_type": "code",
   "execution_count": null,
   "id": "ef04d405",
   "metadata": {},
   "outputs": [],
   "source": [
    " import os\n",
    "\n",
    "directory = r'C:\\uses\\admin directory'\n",
    " \n",
    "for filename in os.listdir(directory):\n",
    "    if (filename.endwith('.csv')):\n",
    "        print(os.path.join(directory,filename))\n",
    "        "
   ]
  },
  {
   "cell_type": "code",
   "execution_count": null,
   "id": "15a823f6",
   "metadata": {},
   "outputs": [],
   "source": []
  },
  {
   "cell_type": "markdown",
   "id": "82a7792b",
   "metadata": {},
   "source": [
    "### transpose a NumPy array"
   ]
  },
  {
   "cell_type": "code",
   "execution_count": 5,
   "id": "a9227fae",
   "metadata": {},
   "outputs": [
    {
     "name": "stdout",
     "output_type": "stream",
     "text": [
      "[[1 4 7]\n",
      " [2 5 8]\n",
      " [3 6 9]]\n"
     ]
    }
   ],
   "source": [
    "import numpy as np\n",
    "array  = np.array([[1,2,3],[4,5,6],[7,8,9]])\n",
    "print(array.T)"
   ]
  },
  {
   "cell_type": "code",
   "execution_count": null,
   "id": "18609f8d",
   "metadata": {},
   "outputs": [],
   "source": []
  },
  {
   "cell_type": "markdown",
   "id": "058f4275",
   "metadata": {},
   "source": [
    "###  <font color ='red'> What are universal functions for n-dimensional arrays? </font>"
   ]
  },
  {
   "cell_type": "markdown",
   "id": "ac880c35",
   "metadata": {},
   "source": [
    "Universal functions are the functions that perform mathematical operations on each element of an n-dimensional array.\n"
   ]
  },
  {
   "cell_type": "code",
   "execution_count": null,
   "id": "22196662",
   "metadata": {},
   "outputs": [],
   "source": [
    "np.sqrt()\n",
    "\n",
    "np.exp()"
   ]
  },
  {
   "cell_type": "code",
   "execution_count": null,
   "id": "85eb1184",
   "metadata": {},
   "outputs": [],
   "source": []
  },
  {
   "cell_type": "markdown",
   "id": "a8a4e7c1",
   "metadata": {},
   "source": [
    "### List a few statistical methods available for a NumPy array"
   ]
  },
  {
   "cell_type": "code",
   "execution_count": null,
   "id": "35098f46",
   "metadata": {},
   "outputs": [],
   "source": [
    "np.mean()\n",
    "\n",
    "np.std()\n",
    "\n",
    "np.sum()\n",
    "\n",
    "np.cumsum()\n"
   ]
  },
  {
   "cell_type": "code",
   "execution_count": null,
   "id": "908ab257",
   "metadata": {},
   "outputs": [],
   "source": []
  },
  {
   "cell_type": "markdown",
   "id": "7473864e",
   "metadata": {},
   "source": [
    "###  <font color ='red'> What are boolean arrays? Write a code to create a boolean array using the NumPy library. </font>"
   ]
  },
  {
   "cell_type": "code",
   "execution_count": null,
   "id": "5d924095",
   "metadata": {},
   "outputs": [],
   "source": [
    "A boolean array is an array whose elements are of the boolean data type.\n",
    "\n",
    "Barr = np.array([True, True, False, False])"
   ]
  },
  {
   "cell_type": "markdown",
   "id": "a3c2918a",
   "metadata": {},
   "source": [
    "### <font color ='red'>  What is Fancy Indexing? </font>"
   ]
  },
  {
   "cell_type": "code",
   "execution_count": null,
   "id": "3f177cfb",
   "metadata": {},
   "outputs": [],
   "source": [
    "IN NumPy, one can use an integer list to describe the indexing of NumPy arrays."
   ]
  },
  {
   "cell_type": "markdown",
   "id": "c2dfb64c",
   "metadata": {},
   "source": [
    "### <font color ='red'>  What is NaT in Python’s Pandas library? </font>"
   ]
  },
  {
   "cell_type": "code",
   "execution_count": null,
   "id": "ce1a1a4f",
   "metadata": {},
   "outputs": [],
   "source": [
    "NaT stands for Not a Time."
   ]
  },
  {
   "cell_type": "markdown",
   "id": "614c875a",
   "metadata": {},
   "source": [
    " ### <font color ='red'> What is Broadcasting for NumPy arrays? </font>"
   ]
  },
  {
   "cell_type": "markdown",
   "id": "604e97c2",
   "metadata": {},
   "source": [
    "Broadcasting is a technique that specifies how arithmetic calculations are performed between arrays of different dimensions. "
   ]
  },
  {
   "cell_type": "markdown",
   "id": "21ec4372",
   "metadata": {},
   "source": [
    "### <font color ='red'>  What is the necessary condition for broadcasting two arrays?  </font>"
   ]
  },
  {
   "cell_type": "markdown",
   "id": "c031cd8a",
   "metadata": {},
   "source": [
    "The two arrays must satisfy either of the following conditions:\n",
    "\n",
    " 1. For each dimension starting from the end, the axis lengths should be equal.\n",
    "\n",
    " 2. Either of the matrices should be one dimensional"
   ]
  },
  {
   "cell_type": "code",
   "execution_count": null,
   "id": "33dce9aa",
   "metadata": {},
   "outputs": [],
   "source": []
  },
  {
   "cell_type": "markdown",
   "id": "06f39930",
   "metadata": {},
   "source": [
    "### What do you mean by overfitting a dataset? "
   ]
  },
  {
   "cell_type": "markdown",
   "id": "e7b22e52",
   "metadata": {},
   "source": [
    "Overfitting a dataset means our model is fitting the training dataset so well that it performs poorly on the test dataset.\n",
    "\n",
    "One of the key reasons for overfitting could be that the model has learned the noise in the dataset."
   ]
  },
  {
   "cell_type": "markdown",
   "id": "dde51068",
   "metadata": {},
   "source": [
    "###  What do you mean by underfitting a dataset?"
   ]
  },
  {
   "cell_type": "markdown",
   "id": "e6727cab",
   "metadata": {},
   "source": [
    "Underfitting a dataset means our model is fitting the training dataset poorly. \n",
    "\n",
    "It usually occurs when we don’t fine-tune the parameters of a model and keep looking for alternatives."
   ]
  },
  {
   "cell_type": "code",
   "execution_count": null,
   "id": "dcce197a",
   "metadata": {},
   "outputs": [],
   "source": []
  },
  {
   "cell_type": "markdown",
   "id": "757032fb",
   "metadata": {},
   "source": [
    "###  <font color ='red'> What is the difference between a test set and a validation set?  </font>"
   ]
  },
  {
   "cell_type": "markdown",
   "id": "a2097ad9",
   "metadata": {},
   "source": [
    "In simple terms, the validation set is used to optimize the model parameters while the test set is used to provide an unbiased estimate of the final model."
   ]
  },
  {
   "cell_type": "code",
   "execution_count": null,
   "id": "fa43d3c2",
   "metadata": {},
   "outputs": [],
   "source": []
  },
  {
   "cell_type": "code",
   "execution_count": null,
   "id": "d0967432",
   "metadata": {},
   "outputs": [],
   "source": [
    "### What is F1-score for a binary classifier? Which library in Python contains this metric?"
   ]
  },
  {
   "cell_type": "markdown",
   "id": "9eedb218",
   "metadata": {},
   "source": [
    "The F1-score is a combination of precision and recall.\n",
    "\n",
    "F1 = 2 * Precision * Recall / (Precision + Recall) \n",
    "\n",
    "F1 can range from 0 to 1, the higher the better.\n",
    "\n",
    "with 1 representing a model that perfectly classifies each observation into the correct class and 0 representing a model that is unable to classify any observation into the correct class."
   ]
  },
  {
   "cell_type": "code",
   "execution_count": null,
   "id": "c85975fb",
   "metadata": {},
   "outputs": [],
   "source": []
  },
  {
   "cell_type": "markdown",
   "id": "bea5c9e5",
   "metadata": {},
   "source": [
    "### <font color ='red'>  What are confounding factors?</font>"
   ]
  },
  {
   "cell_type": "markdown",
   "id": "487e4230",
   "metadata": {},
   "source": [
    "Cofounding factors are the variables that relate to both dependent and independent variables."
   ]
  },
  {
   "cell_type": "code",
   "execution_count": null,
   "id": "bbd2b0bb",
   "metadata": {},
   "outputs": [],
   "source": []
  },
  {
   "cell_type": "markdown",
   "id": "577ff0e5",
   "metadata": {},
   "source": [
    " ### <font color ='red'> What is try-except-finally in Python? </font>"
   ]
  },
  {
   "cell_type": "code",
   "execution_count": null,
   "id": "d4c2cbf4",
   "metadata": {},
   "outputs": [],
   "source": [
    "We use try to test a block of code for the error.\n",
    "\n",
    "We use except to handle the error.\n",
    "\n",
    "We use finally to execute the remaining code irrespective of the result of try and except blocks."
   ]
  },
  {
   "cell_type": "code",
   "execution_count": null,
   "id": "854fbb47",
   "metadata": {},
   "outputs": [],
   "source": [
    "try:\n",
    "    print(a)\n",
    "except:\n",
    "    print(\"Something goes wrong\")\n",
    "finally:\n",
    "    print(\"print this out anyway\")"
   ]
  },
  {
   "cell_type": "code",
   "execution_count": null,
   "id": "35c2cc92",
   "metadata": {},
   "outputs": [],
   "source": []
  },
  {
   "cell_type": "markdown",
   "id": "fb865c85",
   "metadata": {},
   "source": [
    " ### <font color ='red'>  What is the difference between append() and extend() functions in Python? </font>"
   ]
  },
  {
   "cell_type": "markdown",
   "id": "108cf8fe",
   "metadata": {},
   "source": [
    "Python List append()\n",
    "\n",
    "Python List extend()"
   ]
  },
  {
   "cell_type": "raw",
   "id": "4a02dc01",
   "metadata": {},
   "source": [
    "append() adds a single element to the end of the list.\n",
    "\n",
    "extend() can add multiple individual elements to the end of the list"
   ]
  },
  {
   "cell_type": "code",
   "execution_count": null,
   "id": "bce3bb83",
   "metadata": {},
   "outputs": [],
   "source": []
  },
  {
   "cell_type": "markdown",
   "id": "5ceaf5a0",
   "metadata": {},
   "source": [
    " ### <font color ='red'>  What is the use of enumerate() function? </font>"
   ]
  },
  {
   "cell_type": "markdown",
   "id": "e7679f79",
   "metadata": {},
   "source": [
    " enumerate(  ) allows us to iterate through a sequence but it keeps track of both the index and the element."
   ]
  },
  {
   "cell_type": "code",
   "execution_count": 12,
   "id": "ec67383d",
   "metadata": {},
   "outputs": [
    {
     "name": "stdout",
     "output_type": "stream",
     "text": [
      "0 eat\n",
      "1 sleep\n",
      "2 ProjectPro\n"
     ]
    }
   ],
   "source": [
    "List1 = [\"eat\",\"sleep\",\"ProjectPro\"] \n",
    "\n",
    "for index, element in enumerate(List1):\n",
    "    print(index,element)\n"
   ]
  },
  {
   "cell_type": "code",
   "execution_count": null,
   "id": "3a332bfa",
   "metadata": {},
   "outputs": [],
   "source": []
  },
  {
   "attachments": {
    "Screenshot%202022-07-15%20at%2010.03.53%20PM.png": {
     "image/png": "[encoded data removed]"
    }
   },
   "cell_type": "markdown",
   "id": "9f6c2a71",
   "metadata": {},
   "source": [
    "![Screenshot%202022-07-15%20at%2010.03.53%20PM.png](attachment:Screenshot%202022-07-15%20at%2010.03.53%20PM.png)"
   ]
  },
  {
   "cell_type": "code",
   "execution_count": null,
   "id": "3270d8fe",
   "metadata": {},
   "outputs": [],
   "source": []
  },
  {
   "cell_type": "markdown",
   "id": "42e1e143",
   "metadata": {},
   "source": [
    "### What is negative indexing in Python?"
   ]
  },
  {
   "cell_type": "markdown",
   "id": "7ddfb4b0",
   "metadata": {},
   "source": [
    "Negative index means indexing from the end.\n",
    "    \n",
    "The last element in a sequence with index -1, and the second last with -2."
   ]
  },
  {
   "cell_type": "code",
   "execution_count": null,
   "id": "db916ee8",
   "metadata": {},
   "outputs": [],
   "source": []
  },
  {
   "cell_type": "code",
   "execution_count": null,
   "id": "68802eae",
   "metadata": {},
   "outputs": [],
   "source": []
  },
  {
   "cell_type": "code",
   "execution_count": null,
   "id": "b625c7ed",
   "metadata": {},
   "outputs": [],
   "source": []
  },
  {
   "cell_type": "markdown",
   "id": "d1801e76",
   "metadata": {},
   "source": [
    "# --------------------------------- PLOT  ---------------------------------"
   ]
  },
  {
   "cell_type": "code",
   "execution_count": null,
   "id": "13923b63",
   "metadata": {},
   "outputs": [],
   "source": []
  },
  {
   "cell_type": "markdown",
   "id": "1277f12d",
   "metadata": {},
   "source": [
    "## Validation Curve in Python?"
   ]
  },
  {
   "cell_type": "markdown",
   "id": "2192d2b4",
   "metadata": {},
   "source": [
    "A Validation Curve is an important diagnostic tool that shows the sensitivity between to changes in a Machine Learning model’s accuracy with change in some parameter of the model. \n",
    "\n",
    "A validation curve is typically drawn between some parameter of the model and the model’s score.\n",
    "\n",
    "\n",
    "If the training score and the validation score are both low, the estimator will be underfitting.\n",
    "\n",
    "If the training score is high, while the validation score is low, it seems the model is overfitting."
   ]
  },
  {
   "cell_type": "code",
   "execution_count": 13,
   "id": "12483e7c",
   "metadata": {},
   "outputs": [],
   "source": [
    "import matplotlib.pyplot as plt\n",
    "import numpy as np\n",
    "from sklearn import datasets\n",
    "from sklearn.ensemble import RandomForestClassifier\n",
    "\n",
    "digits = datasets.load_iris()\n",
    "\n",
    "X,y = digits.data, digits.target"
   ]
  },
  {
   "cell_type": "code",
   "execution_count": 17,
   "id": "bf439438",
   "metadata": {},
   "outputs": [
    {
     "data": {
      "image/png": "[encoded data removed]",
      "text/plain": [
       "<Figure size 504x504 with 1 Axes>"
      ]
     },
     "metadata": {
      "needs_background": "light"
     },
     "output_type": "display_data"
    }
   ],
   "source": [
    "from sklearn.model_selection import validation_curve\n",
    "\n",
    "param_range = np.arange(1, 250, 2)\n",
    "\n",
    "train_scores, test_scores = validation_curve(RandomForestClassifier(),\n",
    "                                  X, y, param_name=\"n_estimators\", param_range=param_range,\n",
    "                                  cv=4, scoring=\"accuracy\", n_jobs=-1)\n",
    "\n",
    "\n",
    "train_mean = np.mean(train_scores, axis=1)\n",
    "train_std = np.std(train_scores, axis=1)\n",
    "test_mean = np.mean(test_scores, axis=1)\n",
    "test_std = np.std(test_scores, axis=1)\n",
    "\n",
    "\n",
    "\n",
    "plt.subplots(1, figsize=(7,7))\n",
    "plt.plot(param_range, train_mean, label=\"Training score\", color=\"black\")\n",
    "plt.plot(param_range, test_mean, label=\"Cross-validation score\", color=\"dimgrey\")\n",
    "\n",
    "plt.fill_between(param_range, train_mean - train_std, train_mean + train_std, color=\"gray\")\n",
    "plt.fill_between(param_range, test_mean - test_std, test_mean + test_std, color=\"gainsboro\")\n",
    " \n",
    "plt.title(\"Validation Curve With Random Forest\")\n",
    "plt.xlabel(\"Number Of Trees\")\n",
    "plt.tight_layout()\n",
    "plt.legend(loc=\"best\")\n",
    "plt.show()\n",
    "    \n",
    "    "
   ]
  },
  {
   "cell_type": "code",
   "execution_count": null,
   "id": "4afbd082",
   "metadata": {},
   "outputs": [],
   "source": []
  },
  {
   "cell_type": "markdown",
   "id": "f68dfc78",
   "metadata": {},
   "source": [
    "## ROC Curve"
   ]
  },
  {
   "cell_type": "markdown",
   "id": "14a4b606",
   "metadata": {},
   "source": [
    "### receiver operating characteristic curve\n",
    "\n",
    "\n",
    "The ROC curve shows the trade-off between sensitivity (or TPR) and specificity (1 – FPR)\n",
    "\n",
    "Classifiers that give curves closer to the top-left corner indicate a better performance.\n",
    "\n",
    "As a baseline, a random classifier is expected to give points lying along the diagonal (FPR = TPR)."
   ]
  },
  {
   "cell_type": "code",
   "execution_count": 5,
   "id": "7633472c",
   "metadata": {},
   "outputs": [
    {
     "data": {
      "text/plain": [
       "<Figure size 216x216 with 0 Axes>"
      ]
     },
     "metadata": {},
     "output_type": "display_data"
    },
    {
     "data": {
      "image/png": "[encoded data removed]",
      "text/plain": [
       "<Figure size 360x360 with 1 Axes>"
      ]
     },
     "metadata": {
      "needs_background": "light"
     },
     "output_type": "display_data"
    }
   ],
   "source": [
    "from sklearn import datasets, ensemble, metrics, model_selection, dummy\n",
    "import matplotlib.pyplot as plt\n",
    "\n",
    "digits = datasets.load_digits()\n",
    "\n",
    "# First we work only on sevens:\n",
    "sevens = (digits.target == 7)\n",
    "\n",
    "classifier = ensemble.RandomForestClassifier()\n",
    "most_frequent = dummy.DummyClassifier(strategy='most_frequent')\n",
    "\n",
    "X_train, X_test, y_train, y_test = model_selection.train_test_split(\n",
    "    digits.data, sevens, random_state=0)\n",
    "\n",
    "y_score = classifier.fit(X_train, y_train).predict_proba(X_test)\n",
    "\n",
    "most_frequent_score = most_frequent.fit(X_train,\n",
    "                                        y_train).predict_proba(X_test)\n",
    "\n",
    "fpr, tpr, _ = metrics.roc_curve(y_test, y_score[:, 1])\n",
    "# roc_curve(y_true, y_score)\n",
    "# y_score: can either be probability estimates of the positive class, confidence values, \n",
    "         # or non-thresholded measure of decisions\n",
    "\n",
    "roc_auc = metrics.auc(fpr, tpr)\n",
    "# metrics.auc: Compute Area Under the Curve (AUC) \n",
    "\n",
    "\n",
    "fpr_dummy, tpr_dummy, _ = metrics.roc_curve(y_test,\n",
    "                                            most_frequent_score[:, 1])\n",
    "roc_auc_dummy = metrics.auc(fpr_dummy, tpr_dummy)\n",
    "\n",
    "plt.figure(figsize=(3, 3))\n",
    "lw = 2\n",
    "\n",
    "plt.figure(figsize=(5,5))\n",
    "plt.plot(fpr, tpr, color='darkorange',\n",
    "         lw=lw, label='RandomForestClassifier\\n(area = %0.2f)' % roc_auc)\n",
    "plt.plot(fpr_dummy, tpr_dummy, color='.5',\n",
    "         lw=lw, label='Dummy\\n(area = %0.2f)' % roc_auc_dummy)\n",
    "plt.xlim([0.0, 1.0])\n",
    "plt.ylim([0.0, 1.05])\n",
    "plt.xlabel('False Positive Rate')\n",
    "plt.ylabel('True Positive Rate')\n",
    "plt.title('Receiver operating characteristic')\n",
    "plt.legend(loc=\"lower left\", title='ROC curve')\n",
    "plt.tight_layout()\n",
    "plt.show()"
   ]
  },
  {
   "cell_type": "raw",
   "id": "063e6500",
   "metadata": {},
   "source": [
    "## Difference Between predict(  ) and predict_proba (  ) in scikit-learn\n",
    "\n",
    "### predict( )\n",
    "All supervised estimators in scikit-learn implement the predict() method that can be executed on a trained model in order to predict the actual label (or class) over a new set of data.\n",
    "\n",
    "for example:\n",
    "\n",
    "predictions = knn.predict(iris_X_test)\n",
    "\n",
    "print(predictions)\n",
    "\n",
    "array([1, 2, 1, 0, 0, 0, 2, 1, 2, 0])\n",
    "\n",
    "\n",
    "\n",
    "### predict_proba( )\n",
    "The predict_proba() method\n",
    "\n",
    "some sklearn estimators also implement the predict_proba method that returns the class probabilities for each data point.\n",
    "\n",
    "for example:\n",
    "\n",
    "predictions = knn.predict_proba(iris_X_test)\n",
    "\n",
    "print(predictions)\n",
    "array([[0. , 1. , 0. ],\n",
    "       [0. , 0.4, 0.6],\n",
    "       [0. , 1. , 0. ],\n",
    "       [1. , 0. , 0. ],\n",
    "       [1. , 0. , 0. ],\n",
    "       [1. , 0. , 0. ],\n",
    "       [0. , 0. , 1. ],\n",
    "       [0. , 1. , 0. ],\n",
    "       [0. , 0. , 1. ],\n",
    "       [1. , 0. , 0. ]])"
   ]
  },
  {
   "cell_type": "code",
   "execution_count": null,
   "id": "9467f6ba",
   "metadata": {},
   "outputs": [],
   "source": []
  },
  {
   "cell_type": "markdown",
   "id": "9b31c82f",
   "metadata": {},
   "source": [
    "## <font color='red'>  Learning Curve </font>"
   ]
  },
  {
   "cell_type": "markdown",
   "id": "e46bebab",
   "metadata": {},
   "source": [
    "Learning curve in machine learning is used to assess how models will perform with varying numbers of training samples.\n",
    "\n",
    "Determines cross-validated training and test scores for different training set sizes.\n"
   ]
  },
  {
   "cell_type": "code",
   "execution_count": 8,
   "id": "97eaf8f4",
   "metadata": {},
   "outputs": [],
   "source": [
    "import numpy as np\n",
    "import matplotlib.pyplot as plt\n",
    "from sklearn.ensemble import RandomForestClassifier\n",
    "from sklearn import datasets\n",
    "\n",
    "from sklearn.model_selection import learning_curve"
   ]
  },
  {
   "cell_type": "code",
   "execution_count": 11,
   "id": "148c78b1",
   "metadata": {},
   "outputs": [],
   "source": [
    "cancer = datasets.load_breast_cancer()\n",
    "X ,y = cancer.data, cancer.target"
   ]
  },
  {
   "cell_type": "code",
   "execution_count": 12,
   "id": "819c9012",
   "metadata": {},
   "outputs": [],
   "source": [
    "train_sizes, train_scores, test_scores = learning_curve(RandomForestClassifier(), \n",
    "                                                        X, y, cv=10, scoring='accuracy', \n",
    "                                                        n_jobs=-1, train_sizes=np.linspace(0.01, 1.0, 50))\n",
    "\n",
    "\n",
    "train_mean = np.mean(train_scores, axis=1)\n",
    "train_std = np.std(train_scores, axis=1)\n",
    "\n",
    "test_mean = np.mean(test_scores, axis=1)\n",
    "test_std = np.std(test_scores, axis=1)"
   ]
  },
  {
   "cell_type": "code",
   "execution_count": 13,
   "id": "6dcb352e",
   "metadata": {},
   "outputs": [
    {
     "data": {
      "image/png": "[encoded data removed]",
      "text/plain": [
       "<Figure size 720x720 with 1 Axes>"
      ]
     },
     "metadata": {
      "needs_background": "light"
     },
     "output_type": "display_data"
    }
   ],
   "source": [
    "# plot the training curve\n",
    "\n",
    "plt.subplots(1, figsize=(10,10))\n",
    "plt.plot(train_sizes, train_mean, '--', color=\"#111111\",  label=\"Training score\")\n",
    "plt.plot(train_sizes, test_mean, color=\"#111111\", label=\"Cross-validation score\")\n",
    "\n",
    "plt.fill_between(train_sizes, train_mean - train_std, train_mean + train_std, color=\"#DDDDDD\")\n",
    "plt.fill_between(train_sizes, test_mean - test_std, test_mean + test_std, color=\"#DDDDDD\")\n",
    "\n",
    "plt.title(\"Learning Curve\")\n",
    "plt.xlabel(\"Training Set Size\"), plt.ylabel(\"Accuracy Score\"), plt.legend(loc=\"best\")\n",
    "plt.tight_layout()\n",
    "plt.show()"
   ]
  },
  {
   "cell_type": "raw",
   "id": "b3c78ced",
   "metadata": {},
   "source": [
    "The training score doesn’t change much by adding more examples. \n",
    "    \n",
    "But the cross-validation score definitely does!"
   ]
  },
  {
   "cell_type": "code",
   "execution_count": null,
   "id": "8dba2a27",
   "metadata": {},
   "outputs": [],
   "source": []
  },
  {
   "cell_type": "markdown",
   "id": "34afea82",
   "metadata": {},
   "source": [
    "## Stacked Bar plot\n",
    "\n",
    "Stacked Bar Graphs are used to show how a larger category is divided into smaller categories and what the relationship of each part has on the total amount."
   ]
  },
  {
   "cell_type": "code",
   "execution_count": 14,
   "id": "3ca996a7",
   "metadata": {},
   "outputs": [
    {
     "data": {
      "image/png": "[encoded data removed]",
      "text/plain": [
       "<Figure size 432x288 with 1 Axes>"
      ]
     },
     "metadata": {
      "needs_background": "light"
     },
     "output_type": "display_data"
    }
   ],
   "source": [
    "import matplotlib.pyplot as plt\n",
    "import numpy as np\n",
    "\n",
    "x = ['A', 'B', 'C', 'D']\n",
    "y1 = np.array([10, 20, 10, 30])\n",
    "y2 = np.array([20, 25, 15, 25])\n",
    "y3 = np.array([12, 15, 19, 6])\n",
    "y4 = np.array([10, 29, 13, 19])\n",
    "\n",
    "plt.bar(x, y1, color='r')\n",
    "plt.bar(x, y2, bottom=y1, color='b')\n",
    "plt.bar(x, y3, bottom=y1+y2, color='y')\n",
    "plt.bar(x, y4, bottom=y1+y2+y3, color='g')\n",
    "plt.xlabel(\"Teams\")\n",
    "plt.ylabel(\"Score\")\n",
    "plt.legend([\"Round 1\", \"Round 2\", \"Round 3\", \"Round 4\"])\n",
    "plt.title(\"Scores by Teams in 4 Rounds\")\n",
    "plt.show()"
   ]
  },
  {
   "cell_type": "code",
   "execution_count": null,
   "id": "41b0b19c",
   "metadata": {},
   "outputs": [],
   "source": []
  },
  {
   "cell_type": "markdown",
   "id": "ea66b673",
   "metadata": {},
   "source": [
    "## Grouped Bar Plot"
   ]
  },
  {
   "cell_type": "markdown",
   "id": "644f35c7",
   "metadata": {},
   "source": [
    "A grouped bar chart (aka clustered bar chart, multi-series bar chart) extends the bar chart, plotting numeric values for levels of two categorical variables instead of one."
   ]
  },
  {
   "cell_type": "code",
   "execution_count": 23,
   "id": "010967f4",
   "metadata": {},
   "outputs": [
    {
     "data": {
      "image/png": "[encoded data removed]",
      "text/plain": [
       "<Figure size 432x288 with 1 Axes>"
      ]
     },
     "metadata": {
      "needs_background": "light"
     },
     "output_type": "display_data"
    }
   ],
   "source": [
    "import matplotlib.pyplot as plt\n",
    "import numpy as np\n",
    "\n",
    "labels = ['G1', 'G2', 'G3', 'G4', 'G5']\n",
    "men_means = [20, 34, 30, 35, 27]\n",
    "women_means = [25, 32, 34, 20, 25]\n",
    "\n",
    "x = np.arange(len(labels))  # the label locations   # array([0, 1, 2, 3, 4])\n",
    "width = 0.35  # the width of the bars\n",
    "\n",
    "fig, ax = plt.subplots()\n",
    "# plt.subplots() is a function that returns a tuple containing a figure and axes object(s).\n",
    "# when using fig, ax = plt.subplots() you unpack this tuple into the variables fig and ax.\n",
    "\n",
    "rects1 = ax.bar(x - width/2, men_means, width, label='Men')\n",
    "rects2 = ax.bar(x + width/2, women_means, width, label='Women')\n",
    "\n",
    "ax.set_ylabel('Scores')\n",
    "ax.set_title('Scores by group and gender')\n",
    "ax.set_xticks(x, labels)\n",
    "ax.legend()\n",
    "\n",
    "ax.bar_label(rects1, padding=3)\n",
    "ax.bar_label(rects2, padding=3)\n",
    "\n",
    "fig.tight_layout()\n",
    "\n",
    "plt.show()"
   ]
  },
  {
   "cell_type": "code",
   "execution_count": null,
   "id": "c8d695f4",
   "metadata": {},
   "outputs": [],
   "source": []
  },
  {
   "cell_type": "code",
   "execution_count": null,
   "id": "df30863f",
   "metadata": {},
   "outputs": [],
   "source": []
  },
  {
   "cell_type": "code",
   "execution_count": null,
   "id": "4c0b2996",
   "metadata": {},
   "outputs": [],
   "source": []
  },
  {
   "cell_type": "code",
   "execution_count": null,
   "id": "d5b4427e",
   "metadata": {},
   "outputs": [],
   "source": []
  },
  {
   "cell_type": "markdown",
   "id": "a3fcdc44",
   "metadata": {},
   "source": [
    "## Pie Chart"
   ]
  },
  {
   "cell_type": "code",
   "execution_count": 16,
   "id": "2ac0b85f",
   "metadata": {},
   "outputs": [
    {
     "data": {
      "image/png": "[encoded data removed]",
      "text/plain": [
       "<Figure size 432x288 with 1 Axes>"
      ]
     },
     "metadata": {},
     "output_type": "display_data"
    }
   ],
   "source": [
    "import matplotlib.pyplot as plt\n",
    "import numpy as np\n",
    "\n",
    "y = np.array([35, 25, 25, 15])\n",
    "mylabels = [\"Apples\", \"Bananas\", \"Cherries\", \"Dates\"]\n",
    "\n",
    "plt.pie(y, labels = mylabels)\n",
    "plt.show() "
   ]
  },
  {
   "cell_type": "markdown",
   "id": "a4fbae0a",
   "metadata": {},
   "source": [
    "### Explode\n",
    "\n",
    "Maybe you want one of the wedges to stand out? The explode parameter allows you to do that."
   ]
  },
  {
   "cell_type": "code",
   "execution_count": 20,
   "id": "11fb5c1c",
   "metadata": {},
   "outputs": [
    {
     "data": {
      "image/png": "[encoded data removed]",
      "text/plain": [
       "<Figure size 432x288 with 1 Axes>"
      ]
     },
     "metadata": {},
     "output_type": "display_data"
    }
   ],
   "source": [
    "import matplotlib.pyplot as plt\n",
    "import numpy as np\n",
    "\n",
    "y = np.array([35,25,25,15])\n",
    "mylabels = [\"Apples\", \"Bananas\", \"Cherries\", \"Dates\"]\n",
    "myexplode = [0.2, 0, 0, 0]\n",
    "\n",
    "plt.pie(y, labels = mylabels, explode = myexplode)\n",
    "plt.show()"
   ]
  },
  {
   "cell_type": "code",
   "execution_count": null,
   "id": "2616a682",
   "metadata": {},
   "outputs": [],
   "source": []
  },
  {
   "cell_type": "code",
   "execution_count": null,
   "id": "ab1d55c9",
   "metadata": {},
   "outputs": [],
   "source": []
  },
  {
   "cell_type": "markdown",
   "id": "3a588a3d",
   "metadata": {},
   "source": [
    "## Scatterplot with Pandas and Seaborn"
   ]
  },
  {
   "cell_type": "code",
   "execution_count": null,
   "id": "ba2ad719",
   "metadata": {},
   "outputs": [],
   "source": [
    "# pandas:\n",
    "df.plot.scatter(x='', y='')\n",
    "\n",
    "# seaborn\n",
    "sns.scatterplot(data='',x='',y='')\n"
   ]
  },
  {
   "cell_type": "code",
   "execution_count": null,
   "id": "1fe1db3a",
   "metadata": {},
   "outputs": [],
   "source": []
  },
  {
   "cell_type": "markdown",
   "id": "2294e4f3",
   "metadata": {},
   "source": [
    "## Using Pandas to plot bar plot"
   ]
  },
  {
   "cell_type": "code",
   "execution_count": null,
   "id": "22e5007f",
   "metadata": {},
   "outputs": [],
   "source": [
    "df.plot.bar(x='',y='')\n",
    "\n",
    "df.plot.barh() # horizontal bar plot"
   ]
  },
  {
   "cell_type": "code",
   "execution_count": null,
   "id": "ecf6ba9d",
   "metadata": {},
   "outputs": [],
   "source": []
  },
  {
   "cell_type": "markdown",
   "id": "031dec01",
   "metadata": {},
   "source": [
    "## <font color = 'red'> How to use seaborn to visualise a Pandas dataframe? </font>"
   ]
  },
  {
   "cell_type": "code",
   "execution_count": 27,
   "id": "a12f8d9e",
   "metadata": {
    "scrolled": true
   },
   "outputs": [
    {
     "name": "stdout",
     "output_type": "stream",
     "text": [
      "    x   y\n",
      "0  44   5\n",
      "1  16  43\n",
      "2  45  21\n",
      "3  10  48\n",
      "4  35   8\n",
      "     x   y\n",
      "20  36  68\n",
      "21  12  29\n",
      "22   6  98\n",
      "23  20  93\n",
      "24  49  20\n"
     ]
    }
   ],
   "source": [
    "import pandas as pd\n",
    "import random\n",
    "import matplotlib.pyplot as plt\n",
    "import seaborn as sns\n",
    "\n",
    "\n",
    "df = pd.DataFrame()\n",
    "df['x'] = random.sample(range(1, 50), 25)\n",
    "df['y'] = random.sample(range(1, 100), 25)\n",
    "print(df.head())\n",
    "print(df.tail())"
   ]
  },
  {
   "cell_type": "code",
   "execution_count": null,
   "id": "fa2827a2",
   "metadata": {},
   "outputs": [],
   "source": [
    "## random.sample syntax:\n",
    "\n",
    "random.sample(sequence, k)\n",
    "\n",
    "# sequence: can be a list, tuple, string or set.\n",
    "# k: an integer value, it specify the length of the sample\n",
    "\n",
    "# Returns: k length new list of elements chosen from the sequence."
   ]
  },
  {
   "cell_type": "code",
   "execution_count": null,
   "id": "0e05878a",
   "metadata": {},
   "outputs": [],
   "source": []
  },
  {
   "cell_type": "code",
   "execution_count": 28,
   "id": "7782f619",
   "metadata": {},
   "outputs": [
    {
     "name": "stderr",
     "output_type": "stream",
     "text": [
      "/Users/yikaima/opt/anaconda3/lib/python3.9/site-packages/seaborn/_decorators.py:36: FutureWarning: Pass the following variables as keyword args: x, y. From version 0.12, the only valid positional argument will be `data`, and passing other arguments without an explicit keyword will result in an error or misinterpretation.\n",
      "  warnings.warn(\n"
     ]
    },
    {
     "data": {
      "text/plain": [
       "<seaborn.axisgrid.FacetGrid at 0x7f8f36187eb0>"
      ]
     },
     "execution_count": 28,
     "metadata": {},
     "output_type": "execute_result"
    },
    {
     "data": {
      "image/png": "[encoded data removed]",
      "text/plain": [
       "<Figure size 360x360 with 1 Axes>"
      ]
     },
     "metadata": {
      "needs_background": "light"
     },
     "output_type": "display_data"
    }
   ],
   "source": [
    "sns.lmplot('x','y',data=df, fit_reg = False)\n",
    "# Seaborn's lmplot: Plot data and regression model fits across a FacetGrid"
   ]
  },
  {
   "cell_type": "code",
   "execution_count": 29,
   "id": "43bbb542",
   "metadata": {},
   "outputs": [
    {
     "name": "stderr",
     "output_type": "stream",
     "text": [
      "/Users/yikaima/opt/anaconda3/lib/python3.9/site-packages/seaborn/_decorators.py:36: FutureWarning: Pass the following variables as keyword args: x, y. From version 0.12, the only valid positional argument will be `data`, and passing other arguments without an explicit keyword will result in an error or misinterpretation.\n",
      "  warnings.warn(\n"
     ]
    },
    {
     "data": {
      "text/plain": [
       "<seaborn.axisgrid.FacetGrid at 0x7f8f16e45be0>"
      ]
     },
     "execution_count": 29,
     "metadata": {},
     "output_type": "execute_result"
    },
    {
     "data": {
      "image/png": "[encoded data removed]",
      "text/plain": [
       "<Figure size 360x360 with 1 Axes>"
      ]
     },
     "metadata": {
      "needs_background": "light"
     },
     "output_type": "display_data"
    }
   ],
   "source": [
    "sns.lmplot('x','y',data=df)"
   ]
  },
  {
   "cell_type": "code",
   "execution_count": 43,
   "id": "f750b696",
   "metadata": {},
   "outputs": [],
   "source": [
    "# sns.kdeplot((df.y))"
   ]
  },
  {
   "cell_type": "code",
   "execution_count": 42,
   "id": "5490c536",
   "metadata": {},
   "outputs": [],
   "source": [
    "# sns.displot(df.x)"
   ]
  },
  {
   "cell_type": "code",
   "execution_count": 40,
   "id": "e3417463",
   "metadata": {},
   "outputs": [],
   "source": [
    "# sns.heatmap([df.y ,df.x], annot = False, fmt ='d')"
   ]
  },
  {
   "cell_type": "code",
   "execution_count": 41,
   "id": "0f59ddee",
   "metadata": {},
   "outputs": [],
   "source": [
    "# sns.clustermap(df)"
   ]
  },
  {
   "cell_type": "code",
   "execution_count": null,
   "id": "dc12abac",
   "metadata": {},
   "outputs": [],
   "source": []
  },
  {
   "cell_type": "markdown",
   "id": "dca4b2d0",
   "metadata": {},
   "source": [
    "# 11 Essential Python Interview Questions *\n",
    "\n",
    "https://www.toptal.com/python/interview-questions"
   ]
  },
  {
   "cell_type": "code",
   "execution_count": null,
   "id": "be181755",
   "metadata": {},
   "outputs": [],
   "source": []
  },
  {
   "cell_type": "code",
   "execution_count": null,
   "id": "cdf27477",
   "metadata": {},
   "outputs": [],
   "source": []
  },
  {
   "cell_type": "code",
   "execution_count": null,
   "id": "e4984517",
   "metadata": {},
   "outputs": [],
   "source": []
  },
  {
   "cell_type": "code",
   "execution_count": null,
   "id": "3565f57f",
   "metadata": {},
   "outputs": [],
   "source": []
  },
  {
   "cell_type": "code",
   "execution_count": null,
   "id": "4ceb4318",
   "metadata": {},
   "outputs": [],
   "source": []
  },
  {
   "cell_type": "markdown",
   "id": "6e61bd44",
   "metadata": {},
   "source": [
    "# Crack your Python Interview in the first attempt\n",
    "\n",
    "https://becominghuman.ai/crack-your-python-interview-in-the-first-attempt-c8d0e0face5d"
   ]
  },
  {
   "cell_type": "markdown",
   "id": "88dde0b8",
   "metadata": {},
   "source": [
    "### Q2. the yield keyword in python"
   ]
  },
  {
   "cell_type": "markdown",
   "id": "a6faa4f4",
   "metadata": {},
   "source": [
    "Yield is generally used to convert a regular Python function into a generator.\n",
    "\n",
    "Similar to the return keyword, but returns a generator object.\n",
    "\n",
    "one function can have several yields."
   ]
  },
  {
   "cell_type": "raw",
   "id": "bb6c4e28",
   "metadata": {},
   "source": [
    "# Return?\n",
    "\n",
    "Return is generally used for the end of the execution and “returns” the result to the caller statement.\n",
    "\n",
    "Each python function can only have 1 return."
   ]
  },
  {
   "cell_type": "code",
   "execution_count": null,
   "id": "988cbd2f",
   "metadata": {},
   "outputs": [],
   "source": []
  },
  {
   "cell_type": "markdown",
   "id": "e66bfdba",
   "metadata": {},
   "source": [
    "### Q3. How will you print the contents of a file?"
   ]
  },
  {
   "cell_type": "markdown",
   "id": "6eb41837",
   "metadata": {},
   "source": [
    "1. Open the file.\n",
    "\n",
    "2. Read the content.\n",
    "\n",
    "3. Print the content.\n",
    "\n",
    "4. Close the file."
   ]
  },
  {
   "cell_type": "code",
   "execution_count": null,
   "id": "0aeeb7e6",
   "metadata": {},
   "outputs": [],
   "source": [
    "f = open('xxx.txt','r')\n",
    "content = f.read\n",
    "print(content)\n",
    "f.close()"
   ]
  },
  {
   "cell_type": "code",
   "execution_count": null,
   "id": "597526d4",
   "metadata": {},
   "outputs": [],
   "source": []
  },
  {
   "cell_type": "markdown",
   "id": "4cb25eaa",
   "metadata": {},
   "source": [
    "### <font color='red'>  Q4. How will you convert a list into a string? </font>"
   ]
  },
  {
   "cell_type": "code",
   "execution_count": 38,
   "id": "745f2b9f",
   "metadata": {},
   "outputs": [
    {
     "name": "stdout",
     "output_type": "stream",
     "text": [
      "<class 'list'>\n",
      "<class 'str'>\n"
     ]
    }
   ],
   "source": [
    "ls =['1', 'dog','5.5']\n",
    "print(type(ls))\n",
    "\n",
    "st = ''.join(ls)\n",
    "print(type(st))"
   ]
  },
  {
   "cell_type": "markdown",
   "id": "0f08f679",
   "metadata": {},
   "source": [
    " ### <font color='red'> convert a string into list </font>"
   ]
  },
  {
   "cell_type": "code",
   "execution_count": 39,
   "id": "37380a15",
   "metadata": {},
   "outputs": [
    {
     "name": "stdout",
     "output_type": "stream",
     "text": [
      "<class 'str'>\n",
      "<class 'list'>\n"
     ]
    }
   ],
   "source": [
    "st='a b c d e'\n",
    "print(type(st))\n",
    "\n",
    "ls = st.split()\n",
    "print(type(ls))"
   ]
  },
  {
   "cell_type": "code",
   "execution_count": null,
   "id": "63e78365",
   "metadata": {},
   "outputs": [],
   "source": []
  },
  {
   "cell_type": "markdown",
   "id": "f4bc8c9b",
   "metadata": {},
   "source": [
    "### Q5. What will the following code output?\n",
    "\n",
    "a = 1\n",
    "\n",
    "a,b = a+1, a+1\n",
    "\n",
    "a,b"
   ]
  },
  {
   "cell_type": "code",
   "execution_count": null,
   "id": "6a9527ee",
   "metadata": {},
   "outputs": [],
   "source": [
    "(2,2)"
   ]
  },
  {
   "cell_type": "code",
   "execution_count": null,
   "id": "d1e7e9df",
   "metadata": {},
   "outputs": [],
   "source": []
  },
  {
   "cell_type": "markdown",
   "id": "f5b9cc9a",
   "metadata": {},
   "source": [
    "### <font color='red'> Q6.   Explain different ways to create an empty NumPy array in Python. </font>"
   ]
  },
  {
   "cell_type": "code",
   "execution_count": 45,
   "id": "261c64cd",
   "metadata": {},
   "outputs": [
    {
     "name": "stdout",
     "output_type": "stream",
     "text": [
      "0\n",
      "False\n"
     ]
    }
   ],
   "source": [
    "# Method 1:\n",
    "import numpy as np\n",
    "array1 = np.array([])\n",
    "print(array1.size)\n",
    "\n",
    "# Method 2:\n",
    "array2 = np.empty(shape=(0,0))\n",
    "print(array2.any())"
   ]
  },
  {
   "cell_type": "code",
   "execution_count": null,
   "id": "cd930168",
   "metadata": {},
   "outputs": [],
   "source": []
  },
  {
   "cell_type": "markdown",
   "id": "e77d0797",
   "metadata": {},
   "source": [
    "### Q7. How will you remove a duplicate element from a list?"
   ]
  },
  {
   "cell_type": "code",
   "execution_count": 47,
   "id": "ba882d19",
   "metadata": {},
   "outputs": [
    {
     "name": "stdout",
     "output_type": "stream",
     "text": [
      "{1, 2, 3, 4}\n"
     ]
    }
   ],
   "source": [
    "# Convert the list into set. Set does not allow duplicates\n",
    "\n",
    "list = [1,2,3,4,4,4,4]\n",
    "\n",
    "new_list = set(list)\n",
    "print(new_list)"
   ]
  },
  {
   "cell_type": "code",
   "execution_count": null,
   "id": "d49de62d",
   "metadata": {},
   "outputs": [],
   "source": []
  },
  {
   "cell_type": "markdown",
   "id": "66233c16",
   "metadata": {},
   "source": [
    "### Q8. How many types of objects does Python support?"
   ]
  },
  {
   "cell_type": "code",
   "execution_count": null,
   "id": "4eeef37a",
   "metadata": {},
   "outputs": [],
   "source": [
    "Objects in Python are mutable and immutable.\n",
    "\n",
    "Immutable: tuple, string\n",
    "    \n",
    "Mutable: dictionary, list, set\n"
   ]
  },
  {
   "cell_type": "code",
   "execution_count": null,
   "id": "f8d3bc2b",
   "metadata": {},
   "outputs": [],
   "source": []
  },
  {
   "cell_type": "markdown",
   "id": "a8274182",
   "metadata": {},
   "source": [
    "### <font color='red'> Q9. What is a control flow statement?  </font>"
   ]
  },
  {
   "cell_type": "markdown",
   "id": "7b685a54",
   "metadata": {},
   "source": [
    "A program’s control flow is the order in which the program’s code executes.\n",
    "\n",
    "Python has three types of control structures:\n",
    "\n",
    "### 1.Sequential \n",
    "The execution process happens in a sequence.\n",
    "\n",
    "### 2. Selection / Decsion control statement\n",
    "If\n",
    "\n",
    "if-else\n",
    "\n",
    "nested-if\n",
    "\n",
    "if-elif-else\n",
    "\n",
    "\n",
    "### 3. Repetition\n",
    "\n",
    "for loop\n",
    "\n",
    "while loop"
   ]
  },
  {
   "cell_type": "code",
   "execution_count": null,
   "id": "12eb1f04",
   "metadata": {},
   "outputs": [],
   "source": []
  },
  {
   "cell_type": "markdown",
   "id": "966c4670",
   "metadata": {},
   "source": [
    "###  <font color='red'> Q 10. Create a new list to convert the following list of number strings to a list of numbers. </font>\n",
    "\n",
    "nums=[‘22’,’68’,’110’,’89’,’31’,’12’]"
   ]
  },
  {
   "cell_type": "code",
   "execution_count": 51,
   "id": "a3adffa3",
   "metadata": {},
   "outputs": [
    {
     "name": "stdout",
     "output_type": "stream",
     "text": [
      "[22, 66, 45, 78, 75]\n",
      "<class 'list'>\n"
     ]
    }
   ],
   "source": [
    "nums=['22','66','45','78','75']\n",
    "\n",
    "ls = [int(i) for i in nums]\n",
    "\n",
    "print(ls)\n",
    "print(type(ls))"
   ]
  },
  {
   "cell_type": "code",
   "execution_count": null,
   "id": "df606fc2",
   "metadata": {},
   "outputs": [],
   "source": []
  },
  {
   "cell_type": "markdown",
   "id": "7a441189",
   "metadata": {},
   "source": [
    "### <font color='red'> 11. What is the MRO in Python? </font>"
   ]
  },
  {
   "cell_type": "markdown",
   "id": "6e12bbc0",
   "metadata": {},
   "source": [
    "### MRO stands for Method Resolution Order.\n",
    "\n",
    "Talking of multiple inheritances, \n",
    "whenever we search for an attribute in a class, Python first searches in the current class. \n",
    "\n",
    "If found, its search is satiated. \n",
    "\n",
    "If not, it moves to the parent class. \n",
    "\n",
    "It follows an approach that is left-to-right and depth-first. \n",
    "\n",
    "It goes to Child, Mother, Father, Object.\n",
    "\n",
    "We can call this order a linearization of the class Child; \n",
    "\n",
    "the set of rules applied are the Method Resolution Order (MRO). "
   ]
  },
  {
   "cell_type": "code",
   "execution_count": null,
   "id": "96a93c55",
   "metadata": {},
   "outputs": [],
   "source": []
  }
 ],
 "metadata": {
  "kernelspec": {
   "display_name": "Python 3 (ipykernel)",
   "language": "python",
   "name": "python3"
  },
  "language_info": {
   "codemirror_mode": {
    "name": "ipython",
    "version": 3
   },
   "file_extension": ".py",
   "mimetype": "text/x-python",
   "name": "python",
   "nbconvert_exporter": "python",
   "pygments_lexer": "ipython3",
   "version": "3.9.7"
  }
 },
 "nbformat": 4,
 "nbformat_minor": 5
}
